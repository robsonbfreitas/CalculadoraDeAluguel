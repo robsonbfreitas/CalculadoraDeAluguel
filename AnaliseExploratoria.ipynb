{
  "nbformat": 4,
  "nbformat_minor": 0,
  "metadata": {
    "colab": {
      "name": "Untitled5.ipynb",
      "provenance": [],
      "authorship_tag": "ABX9TyPHx/lMaS11VMO4+XXrcl3k",
      "include_colab_link": true
    },
    "kernelspec": {
      "name": "python3",
      "display_name": "Python 3"
    },
    "language_info": {
      "name": "python"
    }
  },
  "cells": [
    {
      "cell_type": "markdown",
      "metadata": {
        "id": "view-in-github",
        "colab_type": "text"
      },
      "source": [
        "<a href=\"https://colab.research.google.com/github/robsonbfreitas/CalculadoraDeAluguel/blob/main/AnaliseExploratoria.ipynb\" target=\"_parent\"><img src=\"https://colab.research.google.com/assets/colab-badge.svg\" alt=\"Open In Colab\"/></a>"
      ]
    },
    {
      "cell_type": "code",
      "metadata": {
        "id": "eIttct1udBN4"
      },
      "source": [
        "import requests\n",
        "from bs4 import BeautifulSoup"
      ],
      "execution_count": 17,
      "outputs": []
    },
    {
      "cell_type": "code",
      "metadata": {
        "id": "-XiUGsUYdf1g"
      },
      "source": [
        "url = 'https://www.vivareal.com.br/venda/sp/sao-paulo/apartamento_residencial/'"
      ],
      "execution_count": 18,
      "outputs": []
    },
    {
      "cell_type": "code",
      "metadata": {
        "id": "zee2J1etdlA4"
      },
      "source": [
        "c = requests.get(url).content"
      ],
      "execution_count": 19,
      "outputs": []
    },
    {
      "cell_type": "code",
      "metadata": {
        "id": "rsmLMw4PdnpJ"
      },
      "source": [
        "soup = BeautifulSoup(c)"
      ],
      "execution_count": 20,
      "outputs": []
    },
    {
      "cell_type": "code",
      "metadata": {
        "id": "7BveULL_dsfm"
      },
      "source": [
        "aluguel_tag = soup.find_all('div', {'class':'property-card__price js-property-card-prices js-property-card__price-small'})"
      ],
      "execution_count": 21,
      "outputs": []
    },
    {
      "cell_type": "code",
      "metadata": {
        "id": "CxcY6xjUd3wv",
        "colab": {
          "base_uri": "https://localhost:8080/"
        },
        "outputId": "911431ac-129c-4cbf-bbcb-67e92637d652"
      },
      "source": [
        "len(aluguel_tag)\n",
        "paginas = ['']\n",
        "for i in range(2,40):\n",
        "    a = '?pagina='+str(i)\n",
        "    print(a)\n",
        "    paginas.append(a)\n"
      ],
      "execution_count": 22,
      "outputs": [
        {
          "output_type": "stream",
          "text": [
            "?pagina=2\n",
            "?pagina=3\n",
            "?pagina=4\n",
            "?pagina=5\n",
            "?pagina=6\n",
            "?pagina=7\n",
            "?pagina=8\n",
            "?pagina=9\n",
            "?pagina=10\n",
            "?pagina=11\n",
            "?pagina=12\n",
            "?pagina=13\n",
            "?pagina=14\n",
            "?pagina=15\n",
            "?pagina=16\n",
            "?pagina=17\n",
            "?pagina=18\n",
            "?pagina=19\n",
            "?pagina=20\n",
            "?pagina=21\n",
            "?pagina=22\n",
            "?pagina=23\n",
            "?pagina=24\n",
            "?pagina=25\n",
            "?pagina=26\n",
            "?pagina=27\n",
            "?pagina=28\n",
            "?pagina=29\n",
            "?pagina=30\n",
            "?pagina=31\n",
            "?pagina=32\n",
            "?pagina=33\n",
            "?pagina=34\n",
            "?pagina=35\n",
            "?pagina=36\n",
            "?pagina=37\n",
            "?pagina=38\n",
            "?pagina=39\n"
          ],
          "name": "stdout"
        }
      ]
    },
    {
      "cell_type": "code",
      "metadata": {
        "id": "2CUajfRxd5Pe"
      },
      "source": [
        "import pandas as pd"
      ],
      "execution_count": 23,
      "outputs": []
    },
    {
      "cell_type": "code",
      "metadata": {
        "id": "2Fivs70gd-Mb"
      },
      "source": [
        "def converter_df(aluguel_lista,quartos_lista,endereco_lista,banheiro_lista,vaga_lista,area_lista):\n",
        "    data = {'aluguel':aluguel_lista,\n",
        "           'quartos':quartos_lista,\n",
        "           'endereco':endereco_lista,\n",
        "           'banheiro':banheiro_lista,\n",
        "            'vaga':vaga_lista,\n",
        "            'area':area_lista}\n",
        "    df = pd.DataFrame(data)\n",
        "    return df\n"
      ],
      "execution_count": 25,
      "outputs": []
    },
    {
      "cell_type": "code",
      "metadata": {
        "id": "Pd9rgVE0kBVJ"
      },
      "source": [
        "def scrap(url):\n",
        "    c = requests.get(url).content\n",
        "    soup = BeautifulSoup(c)\n",
        "    \n",
        "    aluguel_tag = soup.find_all('div', {'class':'property-card__price js-property-card-prices js-property-card__price-small'}) \n",
        "    aluguel_lista = [p.text for p in aluguel_tag] \n",
        "    #print(len(aluguel_lista)) \n",
        "    \n",
        "    quartos_tag = soup.find_all('li', {'class': 'property-card__detail-item property-card__detail-room js-property-detail-rooms'}) \n",
        "    quartos_lista = [en.text for en in quartos_tag] \n",
        "    #print(len(quartos_lista)) \n",
        "    \n",
        "    endereco_tag = soup.find_all('span', {'class': 'property-card__address'}) \n",
        "    endereco_lista = [fg.text for fg in endereco_tag] \n",
        "    #print(len(endereco_lista)) \n",
        "    \n",
        "    banheiro_tag = soup.find_all('li', {'class': 'property-card__detail-item property-card__detail-bathroom js-property-detail-bathroom'}) \n",
        "    banheiro_lista = [yp.text for yp in banheiro_tag] \n",
        "    #print(len(banheiro_lista))\n",
        "\n",
        "    vaga_tag = soup.find_all('li', {'class': 'property-card__detail-item property-card__detail-garage js-property-detail-garages'}) \n",
        "    vaga_lista = [yp.text for yp in vaga_tag] \n",
        "\n",
        "    area_tag = soup.find_all('li', {'class': 'property-card__detail-item property-card__detail-area'}) \n",
        "    area_lista = [yp.text for yp in area_tag] \n",
        "\n",
        "\n",
        "    ### Vamos ter criar uma função para transformar listas em df\n",
        "    df=converter_df(aluguel_lista,quartos_lista,endereco_lista,banheiro_lista,vaga_lista,area_lista)\n",
        "    \n",
        "    return df\n"
      ],
      "execution_count": 26,
      "outputs": []
    },
    {
      "cell_type": "code",
      "metadata": {
        "id": "-DAdBJM1enu0"
      },
      "source": [
        "URL = 'https://www.vivareal.com.br/aluguel/sp/sao-paulo/apartamento_residencial/{}'"
      ],
      "execution_count": 27,
      "outputs": []
    },
    {
      "cell_type": "code",
      "metadata": {
        "colab": {
          "base_uri": "https://localhost:8080/"
        },
        "id": "nU5UgjSZet_X",
        "outputId": "eec98703-5cac-459c-b53f-adcd34d2c332"
      },
      "source": [
        "df_lista = []\n",
        "for pg in paginas:\n",
        "    url = URL.format(pg)\n",
        "    print('Coletando URL:', url)\n",
        "    try:\n",
        "        df = scrap(url)\n",
        "    except Exception as e:\n",
        "        print('Erro ao coletar dados na url:', url)\n",
        "        print(e)\n",
        "    df_lista.append(df)\n",
        "\n"
      ],
      "execution_count": 28,
      "outputs": [
        {
          "output_type": "stream",
          "text": [
            "Coletando URL: https://www.vivareal.com.br/aluguel/sp/sao-paulo/apartamento_residencial/\n",
            "Coletando URL: https://www.vivareal.com.br/aluguel/sp/sao-paulo/apartamento_residencial/?pagina=2\n",
            "Coletando URL: https://www.vivareal.com.br/aluguel/sp/sao-paulo/apartamento_residencial/?pagina=3\n",
            "Coletando URL: https://www.vivareal.com.br/aluguel/sp/sao-paulo/apartamento_residencial/?pagina=4\n",
            "Coletando URL: https://www.vivareal.com.br/aluguel/sp/sao-paulo/apartamento_residencial/?pagina=5\n",
            "Coletando URL: https://www.vivareal.com.br/aluguel/sp/sao-paulo/apartamento_residencial/?pagina=6\n",
            "Coletando URL: https://www.vivareal.com.br/aluguel/sp/sao-paulo/apartamento_residencial/?pagina=7\n",
            "Coletando URL: https://www.vivareal.com.br/aluguel/sp/sao-paulo/apartamento_residencial/?pagina=8\n",
            "Coletando URL: https://www.vivareal.com.br/aluguel/sp/sao-paulo/apartamento_residencial/?pagina=9\n",
            "Coletando URL: https://www.vivareal.com.br/aluguel/sp/sao-paulo/apartamento_residencial/?pagina=10\n",
            "Coletando URL: https://www.vivareal.com.br/aluguel/sp/sao-paulo/apartamento_residencial/?pagina=11\n",
            "Coletando URL: https://www.vivareal.com.br/aluguel/sp/sao-paulo/apartamento_residencial/?pagina=12\n",
            "Coletando URL: https://www.vivareal.com.br/aluguel/sp/sao-paulo/apartamento_residencial/?pagina=13\n",
            "Coletando URL: https://www.vivareal.com.br/aluguel/sp/sao-paulo/apartamento_residencial/?pagina=14\n",
            "Coletando URL: https://www.vivareal.com.br/aluguel/sp/sao-paulo/apartamento_residencial/?pagina=15\n",
            "Coletando URL: https://www.vivareal.com.br/aluguel/sp/sao-paulo/apartamento_residencial/?pagina=16\n",
            "Coletando URL: https://www.vivareal.com.br/aluguel/sp/sao-paulo/apartamento_residencial/?pagina=17\n",
            "Coletando URL: https://www.vivareal.com.br/aluguel/sp/sao-paulo/apartamento_residencial/?pagina=18\n",
            "Coletando URL: https://www.vivareal.com.br/aluguel/sp/sao-paulo/apartamento_residencial/?pagina=19\n",
            "Coletando URL: https://www.vivareal.com.br/aluguel/sp/sao-paulo/apartamento_residencial/?pagina=20\n",
            "Coletando URL: https://www.vivareal.com.br/aluguel/sp/sao-paulo/apartamento_residencial/?pagina=21\n",
            "Coletando URL: https://www.vivareal.com.br/aluguel/sp/sao-paulo/apartamento_residencial/?pagina=22\n",
            "Coletando URL: https://www.vivareal.com.br/aluguel/sp/sao-paulo/apartamento_residencial/?pagina=23\n",
            "Coletando URL: https://www.vivareal.com.br/aluguel/sp/sao-paulo/apartamento_residencial/?pagina=24\n",
            "Coletando URL: https://www.vivareal.com.br/aluguel/sp/sao-paulo/apartamento_residencial/?pagina=25\n",
            "Coletando URL: https://www.vivareal.com.br/aluguel/sp/sao-paulo/apartamento_residencial/?pagina=26\n",
            "Coletando URL: https://www.vivareal.com.br/aluguel/sp/sao-paulo/apartamento_residencial/?pagina=27\n",
            "Coletando URL: https://www.vivareal.com.br/aluguel/sp/sao-paulo/apartamento_residencial/?pagina=28\n",
            "Coletando URL: https://www.vivareal.com.br/aluguel/sp/sao-paulo/apartamento_residencial/?pagina=29\n",
            "Coletando URL: https://www.vivareal.com.br/aluguel/sp/sao-paulo/apartamento_residencial/?pagina=30\n",
            "Coletando URL: https://www.vivareal.com.br/aluguel/sp/sao-paulo/apartamento_residencial/?pagina=31\n",
            "Coletando URL: https://www.vivareal.com.br/aluguel/sp/sao-paulo/apartamento_residencial/?pagina=32\n",
            "Coletando URL: https://www.vivareal.com.br/aluguel/sp/sao-paulo/apartamento_residencial/?pagina=33\n",
            "Coletando URL: https://www.vivareal.com.br/aluguel/sp/sao-paulo/apartamento_residencial/?pagina=34\n",
            "Coletando URL: https://www.vivareal.com.br/aluguel/sp/sao-paulo/apartamento_residencial/?pagina=35\n",
            "Coletando URL: https://www.vivareal.com.br/aluguel/sp/sao-paulo/apartamento_residencial/?pagina=36\n",
            "Coletando URL: https://www.vivareal.com.br/aluguel/sp/sao-paulo/apartamento_residencial/?pagina=37\n",
            "Coletando URL: https://www.vivareal.com.br/aluguel/sp/sao-paulo/apartamento_residencial/?pagina=38\n",
            "Coletando URL: https://www.vivareal.com.br/aluguel/sp/sao-paulo/apartamento_residencial/?pagina=39\n"
          ],
          "name": "stdout"
        }
      ]
    },
    {
      "cell_type": "code",
      "metadata": {
        "id": "nTfSb9R_ezKp"
      },
      "source": [
        "df_final = pd.concat(df_lista)"
      ],
      "execution_count": 29,
      "outputs": []
    },
    {
      "cell_type": "code",
      "metadata": {
        "colab": {
          "base_uri": "https://localhost:8080/",
          "height": 204
        },
        "id": "9UhJF1Uae5aL",
        "outputId": "41704542-7ef4-4927-f880-ccf42f37d77c"
      },
      "source": [
        "df_final.head()"
      ],
      "execution_count": 30,
      "outputs": [
        {
          "output_type": "execute_result",
          "data": {
            "text/html": [
              "<div>\n",
              "<style scoped>\n",
              "    .dataframe tbody tr th:only-of-type {\n",
              "        vertical-align: middle;\n",
              "    }\n",
              "\n",
              "    .dataframe tbody tr th {\n",
              "        vertical-align: top;\n",
              "    }\n",
              "\n",
              "    .dataframe thead th {\n",
              "        text-align: right;\n",
              "    }\n",
              "</style>\n",
              "<table border=\"1\" class=\"dataframe\">\n",
              "  <thead>\n",
              "    <tr style=\"text-align: right;\">\n",
              "      <th></th>\n",
              "      <th>aluguel</th>\n",
              "      <th>quartos</th>\n",
              "      <th>endereco</th>\n",
              "      <th>banheiro</th>\n",
              "      <th>vaga</th>\n",
              "      <th>area</th>\n",
              "    </tr>\n",
              "  </thead>\n",
              "  <tbody>\n",
              "    <tr>\n",
              "      <th>0</th>\n",
              "      <td>R$ 1.600 /Mês</td>\n",
              "      <td>3   Quartos</td>\n",
              "      <td>Rua Sara Bernhard, 355 - Alto da Mooca, São Pa...</td>\n",
              "      <td>2   Banheiros</td>\n",
              "      <td>1   Vaga</td>\n",
              "      <td>90   m²</td>\n",
              "    </tr>\n",
              "    <tr>\n",
              "      <th>1</th>\n",
              "      <td>R$ 2.100 /Mês</td>\n",
              "      <td>2   Quartos</td>\n",
              "      <td>Rua Fidélis Papini, 786 - Vila Prudente, São P...</td>\n",
              "      <td>2   Banheiros</td>\n",
              "      <td>1   Vaga</td>\n",
              "      <td>80   m²</td>\n",
              "    </tr>\n",
              "    <tr>\n",
              "      <th>2</th>\n",
              "      <td>R$ 2.500 /Mês</td>\n",
              "      <td>3   Quartos</td>\n",
              "      <td>Rua Camillo Nader, 175 - Morumbi, São Paulo - SP</td>\n",
              "      <td>3   Banheiros</td>\n",
              "      <td>2   Vagas</td>\n",
              "      <td>125   m²</td>\n",
              "    </tr>\n",
              "    <tr>\n",
              "      <th>3</th>\n",
              "      <td>R$ 2.800 /Mês</td>\n",
              "      <td>1   Quarto</td>\n",
              "      <td>Rua Almirante Brasil, 243 - Móoca, São Paulo - SP</td>\n",
              "      <td>2   Banheiros</td>\n",
              "      <td>1   Vaga</td>\n",
              "      <td>70   m²</td>\n",
              "    </tr>\n",
              "    <tr>\n",
              "      <th>4</th>\n",
              "      <td>R$ 5.500 /Mês</td>\n",
              "      <td>3   Quartos</td>\n",
              "      <td>Alameda Franca, 279 - Jardim Paulista, São Pau...</td>\n",
              "      <td>3   Banheiros</td>\n",
              "      <td>1   Vaga</td>\n",
              "      <td>230   m²</td>\n",
              "    </tr>\n",
              "  </tbody>\n",
              "</table>\n",
              "</div>"
            ],
            "text/plain": [
              "              aluguel          quartos  ...           vaga          area\n",
              "0     R$ 1.600 /Mês      3   Quartos    ...     1   Vaga       90   m²  \n",
              "1     R$ 2.100 /Mês      2   Quartos    ...     1   Vaga       80   m²  \n",
              "2     R$ 2.500 /Mês      3   Quartos    ...    2   Vagas      125   m²  \n",
              "3     R$ 2.800 /Mês       1   Quarto    ...     1   Vaga       70   m²  \n",
              "4     R$ 5.500 /Mês      3   Quartos    ...     1   Vaga      230   m²  \n",
              "\n",
              "[5 rows x 6 columns]"
            ]
          },
          "metadata": {
            "tags": []
          },
          "execution_count": 30
        }
      ]
    },
    {
      "cell_type": "code",
      "metadata": {
        "id": "QcsKiKi-e-TY"
      },
      "source": [
        "df_final['bairro'] = df_final.endereco.str.split('\\s-').str[1]\n",
        "df_final['rua'] = df_final.endereco.str.split('\\s-').str[0]\n",
        "df_final['bairro'] = df_final.bairro.str.split(',').str[0]"
      ],
      "execution_count": 31,
      "outputs": []
    },
    {
      "cell_type": "code",
      "metadata": {
        "colab": {
          "base_uri": "https://localhost:8080/",
          "height": 289
        },
        "id": "sDimntiOfGs3",
        "outputId": "91a61120-aaa7-4a58-cc30-0e155fadc519"
      },
      "source": [
        "df_final.head()"
      ],
      "execution_count": 32,
      "outputs": [
        {
          "output_type": "execute_result",
          "data": {
            "text/html": [
              "<div>\n",
              "<style scoped>\n",
              "    .dataframe tbody tr th:only-of-type {\n",
              "        vertical-align: middle;\n",
              "    }\n",
              "\n",
              "    .dataframe tbody tr th {\n",
              "        vertical-align: top;\n",
              "    }\n",
              "\n",
              "    .dataframe thead th {\n",
              "        text-align: right;\n",
              "    }\n",
              "</style>\n",
              "<table border=\"1\" class=\"dataframe\">\n",
              "  <thead>\n",
              "    <tr style=\"text-align: right;\">\n",
              "      <th></th>\n",
              "      <th>aluguel</th>\n",
              "      <th>quartos</th>\n",
              "      <th>endereco</th>\n",
              "      <th>banheiro</th>\n",
              "      <th>vaga</th>\n",
              "      <th>area</th>\n",
              "      <th>bairro</th>\n",
              "      <th>rua</th>\n",
              "    </tr>\n",
              "  </thead>\n",
              "  <tbody>\n",
              "    <tr>\n",
              "      <th>0</th>\n",
              "      <td>R$ 1.600 /Mês</td>\n",
              "      <td>3   Quartos</td>\n",
              "      <td>Rua Sara Bernhard, 355 - Alto da Mooca, São Pa...</td>\n",
              "      <td>2   Banheiros</td>\n",
              "      <td>1   Vaga</td>\n",
              "      <td>90   m²</td>\n",
              "      <td>Alto da Mooca</td>\n",
              "      <td>Rua Sara Bernhard, 355</td>\n",
              "    </tr>\n",
              "    <tr>\n",
              "      <th>1</th>\n",
              "      <td>R$ 2.100 /Mês</td>\n",
              "      <td>2   Quartos</td>\n",
              "      <td>Rua Fidélis Papini, 786 - Vila Prudente, São P...</td>\n",
              "      <td>2   Banheiros</td>\n",
              "      <td>1   Vaga</td>\n",
              "      <td>80   m²</td>\n",
              "      <td>Vila Prudente</td>\n",
              "      <td>Rua Fidélis Papini, 786</td>\n",
              "    </tr>\n",
              "    <tr>\n",
              "      <th>2</th>\n",
              "      <td>R$ 2.500 /Mês</td>\n",
              "      <td>3   Quartos</td>\n",
              "      <td>Rua Camillo Nader, 175 - Morumbi, São Paulo - SP</td>\n",
              "      <td>3   Banheiros</td>\n",
              "      <td>2   Vagas</td>\n",
              "      <td>125   m²</td>\n",
              "      <td>Morumbi</td>\n",
              "      <td>Rua Camillo Nader, 175</td>\n",
              "    </tr>\n",
              "    <tr>\n",
              "      <th>3</th>\n",
              "      <td>R$ 2.800 /Mês</td>\n",
              "      <td>1   Quarto</td>\n",
              "      <td>Rua Almirante Brasil, 243 - Móoca, São Paulo - SP</td>\n",
              "      <td>2   Banheiros</td>\n",
              "      <td>1   Vaga</td>\n",
              "      <td>70   m²</td>\n",
              "      <td>Móoca</td>\n",
              "      <td>Rua Almirante Brasil, 243</td>\n",
              "    </tr>\n",
              "    <tr>\n",
              "      <th>4</th>\n",
              "      <td>R$ 5.500 /Mês</td>\n",
              "      <td>3   Quartos</td>\n",
              "      <td>Alameda Franca, 279 - Jardim Paulista, São Pau...</td>\n",
              "      <td>3   Banheiros</td>\n",
              "      <td>1   Vaga</td>\n",
              "      <td>230   m²</td>\n",
              "      <td>Jardim Paulista</td>\n",
              "      <td>Alameda Franca, 279</td>\n",
              "    </tr>\n",
              "  </tbody>\n",
              "</table>\n",
              "</div>"
            ],
            "text/plain": [
              "              aluguel  ...                        rua\n",
              "0     R$ 1.600 /Mês    ...     Rua Sara Bernhard, 355\n",
              "1     R$ 2.100 /Mês    ...    Rua Fidélis Papini, 786\n",
              "2     R$ 2.500 /Mês    ...     Rua Camillo Nader, 175\n",
              "3     R$ 2.800 /Mês    ...  Rua Almirante Brasil, 243\n",
              "4     R$ 5.500 /Mês    ...        Alameda Franca, 279\n",
              "\n",
              "[5 rows x 8 columns]"
            ]
          },
          "metadata": {
            "tags": []
          },
          "execution_count": 32
        }
      ]
    },
    {
      "cell_type": "code",
      "metadata": {
        "id": "aqPnCsfZfH9p"
      },
      "source": [
        "df_final['quartos'] = df_final.quartos.str.extract('(.*) Quarto')\n",
        "df_final['banheiro'] = df_final.banheiro.str.extract('(.*) Banheiro')\n",
        "df_final['vaga'] = df_final.vaga.str.extract('(.*) Vaga')\n",
        "df_final['area'] = df_final.area.str.extract('(.*)  m²')\n"
      ],
      "execution_count": 33,
      "outputs": []
    },
    {
      "cell_type": "code",
      "metadata": {
        "colab": {
          "base_uri": "https://localhost:8080/",
          "height": 289
        },
        "id": "uXuFnvRDfMlu",
        "outputId": "56a762a1-10c3-4574-f455-dd8d90a8f750"
      },
      "source": [
        "df_final.head()"
      ],
      "execution_count": 34,
      "outputs": [
        {
          "output_type": "execute_result",
          "data": {
            "text/html": [
              "<div>\n",
              "<style scoped>\n",
              "    .dataframe tbody tr th:only-of-type {\n",
              "        vertical-align: middle;\n",
              "    }\n",
              "\n",
              "    .dataframe tbody tr th {\n",
              "        vertical-align: top;\n",
              "    }\n",
              "\n",
              "    .dataframe thead th {\n",
              "        text-align: right;\n",
              "    }\n",
              "</style>\n",
              "<table border=\"1\" class=\"dataframe\">\n",
              "  <thead>\n",
              "    <tr style=\"text-align: right;\">\n",
              "      <th></th>\n",
              "      <th>aluguel</th>\n",
              "      <th>quartos</th>\n",
              "      <th>endereco</th>\n",
              "      <th>banheiro</th>\n",
              "      <th>vaga</th>\n",
              "      <th>area</th>\n",
              "      <th>bairro</th>\n",
              "      <th>rua</th>\n",
              "    </tr>\n",
              "  </thead>\n",
              "  <tbody>\n",
              "    <tr>\n",
              "      <th>0</th>\n",
              "      <td>R$ 1.600 /Mês</td>\n",
              "      <td>3</td>\n",
              "      <td>Rua Sara Bernhard, 355 - Alto da Mooca, São Pa...</td>\n",
              "      <td>2</td>\n",
              "      <td>1</td>\n",
              "      <td>90</td>\n",
              "      <td>Alto da Mooca</td>\n",
              "      <td>Rua Sara Bernhard, 355</td>\n",
              "    </tr>\n",
              "    <tr>\n",
              "      <th>1</th>\n",
              "      <td>R$ 2.100 /Mês</td>\n",
              "      <td>2</td>\n",
              "      <td>Rua Fidélis Papini, 786 - Vila Prudente, São P...</td>\n",
              "      <td>2</td>\n",
              "      <td>1</td>\n",
              "      <td>80</td>\n",
              "      <td>Vila Prudente</td>\n",
              "      <td>Rua Fidélis Papini, 786</td>\n",
              "    </tr>\n",
              "    <tr>\n",
              "      <th>2</th>\n",
              "      <td>R$ 2.500 /Mês</td>\n",
              "      <td>3</td>\n",
              "      <td>Rua Camillo Nader, 175 - Morumbi, São Paulo - SP</td>\n",
              "      <td>3</td>\n",
              "      <td>2</td>\n",
              "      <td>125</td>\n",
              "      <td>Morumbi</td>\n",
              "      <td>Rua Camillo Nader, 175</td>\n",
              "    </tr>\n",
              "    <tr>\n",
              "      <th>3</th>\n",
              "      <td>R$ 2.800 /Mês</td>\n",
              "      <td>1</td>\n",
              "      <td>Rua Almirante Brasil, 243 - Móoca, São Paulo - SP</td>\n",
              "      <td>2</td>\n",
              "      <td>1</td>\n",
              "      <td>70</td>\n",
              "      <td>Móoca</td>\n",
              "      <td>Rua Almirante Brasil, 243</td>\n",
              "    </tr>\n",
              "    <tr>\n",
              "      <th>4</th>\n",
              "      <td>R$ 5.500 /Mês</td>\n",
              "      <td>3</td>\n",
              "      <td>Alameda Franca, 279 - Jardim Paulista, São Pau...</td>\n",
              "      <td>3</td>\n",
              "      <td>1</td>\n",
              "      <td>230</td>\n",
              "      <td>Jardim Paulista</td>\n",
              "      <td>Alameda Franca, 279</td>\n",
              "    </tr>\n",
              "  </tbody>\n",
              "</table>\n",
              "</div>"
            ],
            "text/plain": [
              "              aluguel quartos  ...            bairro                        rua\n",
              "0     R$ 1.600 /Mês       3    ...     Alto da Mooca     Rua Sara Bernhard, 355\n",
              "1     R$ 2.100 /Mês       2    ...     Vila Prudente    Rua Fidélis Papini, 786\n",
              "2     R$ 2.500 /Mês       3    ...           Morumbi     Rua Camillo Nader, 175\n",
              "3     R$ 2.800 /Mês       1    ...             Móoca  Rua Almirante Brasil, 243\n",
              "4     R$ 5.500 /Mês       3    ...   Jardim Paulista        Alameda Franca, 279\n",
              "\n",
              "[5 rows x 8 columns]"
            ]
          },
          "metadata": {
            "tags": []
          },
          "execution_count": 34
        }
      ]
    },
    {
      "cell_type": "code",
      "metadata": {
        "colab": {
          "base_uri": "https://localhost:8080/",
          "height": 129
        },
        "id": "10EgxU6UfR6s",
        "outputId": "17d5a63c-2466-4347-d140-6175c0d40ebf"
      },
      "source": [
        "\n",
        " df_final['aluguel'] = df_final.aluguel.str.extract('R\\$ (.*) /Mês')\n",
        " df_final['aluguel'] = df_final['aluguel'].replace('\\.', '', regex=True)"
      ],
      "execution_count": 36,
      "outputs": [
        {
          "output_type": "error",
          "ename": "IndentationError",
          "evalue": "ignored",
          "traceback": [
            "\u001b[0;36m  File \u001b[0;32m\"<ipython-input-36-187bc97228ad>\"\u001b[0;36m, line \u001b[0;32m2\u001b[0m\n\u001b[0;31m    df_final['aluguel'] = df_final.aluguel.str.extract('R\\$ (.*) /Mês')\u001b[0m\n\u001b[0m    ^\u001b[0m\n\u001b[0;31mIndentationError\u001b[0m\u001b[0;31m:\u001b[0m unexpected indent\n"
          ]
        }
      ]
    },
    {
      "cell_type": "code",
      "metadata": {
        "id": "8DWNnYaefV3M"
      },
      "source": [
        "df_final.head()"
      ],
      "execution_count": null,
      "outputs": []
    },
    {
      "cell_type": "code",
      "metadata": {
        "id": "ZO3D_SllfabZ"
      },
      "source": [
        "df_teste = df_final"
      ],
      "execution_count": null,
      "outputs": []
    },
    {
      "cell_type": "code",
      "metadata": {
        "id": "dzPAp61KfgW4"
      },
      "source": [
        "colunas = df_teste.drop(columns=['endereco','bairro','rua'])"
      ],
      "execution_count": null,
      "outputs": []
    },
    {
      "cell_type": "code",
      "metadata": {
        "id": "6VD9hMDOflS5"
      },
      "source": [
        "colunas"
      ],
      "execution_count": null,
      "outputs": []
    },
    {
      "cell_type": "code",
      "metadata": {
        "id": "N4XQMn36fm6U"
      },
      "source": [
        "df_teste.head()"
      ],
      "execution_count": null,
      "outputs": []
    }
  ]
}