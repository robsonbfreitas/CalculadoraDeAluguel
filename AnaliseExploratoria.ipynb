{
  "nbformat": 4,
  "nbformat_minor": 0,
  "metadata": {
    "colab": {
      "name": "Untitled5.ipynb",
      "provenance": [],
      "authorship_tag": "ABX9TyPaUCHpzlko00VB65ayw7EG",
      "include_colab_link": true
    },
    "kernelspec": {
      "name": "python3",
      "display_name": "Python 3"
    },
    "language_info": {
      "name": "python"
    }
  },
  "cells": [
    {
      "cell_type": "markdown",
      "metadata": {
        "id": "view-in-github",
        "colab_type": "text"
      },
      "source": [
        "<a href=\"https://colab.research.google.com/github/robsonbfreitas/CalculadoraDeAluguel/blob/main/AnaliseExploratoria.ipynb\" target=\"_parent\"><img src=\"https://colab.research.google.com/assets/colab-badge.svg\" alt=\"Open In Colab\"/></a>"
      ]
    },
    {
      "cell_type": "code",
      "metadata": {
        "id": "eIttct1udBN4"
      },
      "source": [
        "import requests\n",
        "from bs4 import BeautifulSoup"
      ],
      "execution_count": null,
      "outputs": []
    },
    {
      "cell_type": "code",
      "metadata": {
        "id": "-XiUGsUYdf1g"
      },
      "source": [
        "url = 'https://www.vivareal.com.br/venda/sp/sao-paulo/apartamento_residencial/'"
      ],
      "execution_count": null,
      "outputs": []
    },
    {
      "cell_type": "code",
      "metadata": {
        "id": "zee2J1etdlA4"
      },
      "source": [
        "c = requests.get(url).content"
      ],
      "execution_count": null,
      "outputs": []
    },
    {
      "cell_type": "code",
      "metadata": {
        "id": "rsmLMw4PdnpJ"
      },
      "source": [
        "soup = BeautifulSoup(c)"
      ],
      "execution_count": null,
      "outputs": []
    },
    {
      "cell_type": "code",
      "metadata": {
        "id": "7BveULL_dsfm"
      },
      "source": [
        "aluguel_tag = soup.find_all('div', {'class':'property-card__price js-property-card-prices js-property-card__price-small'})"
      ],
      "execution_count": null,
      "outputs": []
    },
    {
      "cell_type": "code",
      "metadata": {
        "id": "CxcY6xjUd3wv"
      },
      "source": [
        "len(aluguel_tag)\n",
        "paginas = ['']\n",
        "for i in range(2,40):\n",
        "    a = '?pagina='+str(i)\n",
        "    print(a)\n",
        "    paginas.append(a)\n"
      ],
      "execution_count": null,
      "outputs": []
    },
    {
      "cell_type": "code",
      "metadata": {
        "id": "2CUajfRxd5Pe"
      },
      "source": [
        "import pandas as pd"
      ],
      "execution_count": null,
      "outputs": []
    },
    {
      "cell_type": "code",
      "metadata": {
        "id": "2Fivs70gd-Mb"
      },
      "source": [
        "def converter_df(aluguel_lista,quartos_lista,endereco_lista,banheiro_lista,vaga_lista,area_lista):\n",
        "    data = {'aluguel':aluguel_lista,\n",
        "           'quartos':quartos_lista,\n",
        "           'endereco':endereco_lista,\n",
        "           'banheiro':banheiro_lista,\n",
        "            'vaga':vaga_lista,\n",
        "            'area':area_lista}\n",
        "    df = pd.DataFrame(data)\n",
        "    return df\n"
      ],
      "execution_count": null,
      "outputs": []
    }
  ]
}