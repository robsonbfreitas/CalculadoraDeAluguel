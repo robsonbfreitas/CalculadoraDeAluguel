{
  "nbformat": 4,
  "nbformat_minor": 0,
  "metadata": {
    "colab": {
      "name": "Untitled5.ipynb",
      "provenance": [],
      "authorship_tag": "ABX9TyOQtcojR4U4ZPtDZW3oK+3p",
      "include_colab_link": true
    },
    "kernelspec": {
      "name": "python3",
      "display_name": "Python 3"
    },
    "language_info": {
      "name": "python"
    }
  },
  "cells": [
    {
      "cell_type": "markdown",
      "metadata": {
        "id": "view-in-github",
        "colab_type": "text"
      },
      "source": [
        "<a href=\"https://colab.research.google.com/github/robsonbfreitas/CalculadoraDeAluguel/blob/main/AnaliseExploratoria.ipynb\" target=\"_parent\"><img src=\"https://colab.research.google.com/assets/colab-badge.svg\" alt=\"Open In Colab\"/></a>"
      ]
    },
    {
      "cell_type": "code",
      "metadata": {
        "id": "eIttct1udBN4"
      },
      "source": [
        "import requests\n",
        "from bs4 import BeautifulSoup"
      ],
      "execution_count": null,
      "outputs": []
    },
    {
      "cell_type": "code",
      "metadata": {
        "id": "-XiUGsUYdf1g"
      },
      "source": [
        "url = 'https://www.vivareal.com.br/venda/sp/sao-paulo/apartamento_residencial/'"
      ],
      "execution_count": null,
      "outputs": []
    },
    {
      "cell_type": "code",
      "metadata": {
        "id": "zee2J1etdlA4"
      },
      "source": [
        "c = requests.get(url).content"
      ],
      "execution_count": null,
      "outputs": []
    },
    {
      "cell_type": "code",
      "metadata": {
        "id": "rsmLMw4PdnpJ"
      },
      "source": [
        "soup = BeautifulSoup(c)"
      ],
      "execution_count": null,
      "outputs": []
    },
    {
      "cell_type": "code",
      "metadata": {
        "id": "7BveULL_dsfm"
      },
      "source": [
        "aluguel_tag = soup.find_all('div', {'class':'property-card__price js-property-card-prices js-property-card__price-small'})"
      ],
      "execution_count": null,
      "outputs": []
    },
    {
      "cell_type": "code",
      "metadata": {
        "id": "CxcY6xjUd3wv"
      },
      "source": [
        "len(aluguel_tag)\n",
        "paginas = ['']\n",
        "for i in range(2,40):\n",
        "    a = '?pagina='+str(i)\n",
        "    print(a)\n",
        "    paginas.append(a)\n"
      ],
      "execution_count": null,
      "outputs": []
    },
    {
      "cell_type": "code",
      "metadata": {
        "id": "2CUajfRxd5Pe"
      },
      "source": [
        "import pandas as pd"
      ],
      "execution_count": null,
      "outputs": []
    },
    {
      "cell_type": "code",
      "metadata": {
        "id": "2Fivs70gd-Mb"
      },
      "source": [
        "def converter_df(aluguel_lista,quartos_lista,endereco_lista,banheiro_lista,vaga_lista,area_lista):\n",
        "    data = {'aluguel':aluguel_lista,\n",
        "           'quartos':quartos_lista,\n",
        "           'endereco':endereco_lista,\n",
        "           'banheiro':banheiro_lista,\n",
        "            'vaga':vaga_lista,\n",
        "            'area':area_lista}\n",
        "    df = pd.DataFrame(data)\n",
        "    return df\n"
      ],
      "execution_count": null,
      "outputs": []
    },
    {
      "cell_type": "code",
      "metadata": {
        "id": "-DAdBJM1enu0"
      },
      "source": [
        "URL = 'https://www.vivareal.com.br/aluguel/sp/sao-paulo/apartamento_residencial/{}'"
      ],
      "execution_count": null,
      "outputs": []
    },
    {
      "cell_type": "code",
      "metadata": {
        "id": "nU5UgjSZet_X"
      },
      "source": [
        "df_lista = []\n",
        "for pg in paginas:\n",
        "    url = URL.format(pg)\n",
        "    print('Coletando URL:', url)\n",
        "    try:\n",
        "        df = scrap(url)\n",
        "    except Exception as e:\n",
        "        print('Erro ao coletar dados na url:', url)\n",
        "        print(e)\n",
        "    df_lista.append(df)\n",
        "\n"
      ],
      "execution_count": null,
      "outputs": []
    },
    {
      "cell_type": "code",
      "metadata": {
        "id": "nTfSb9R_ezKp"
      },
      "source": [
        "df_final = pd.concat(df_lista)"
      ],
      "execution_count": null,
      "outputs": []
    },
    {
      "cell_type": "code",
      "metadata": {
        "id": "9UhJF1Uae5aL"
      },
      "source": [
        "df_final.head()"
      ],
      "execution_count": null,
      "outputs": []
    },
    {
      "cell_type": "code",
      "metadata": {
        "id": "QcsKiKi-e-TY"
      },
      "source": [
        "df_final['bairro'] = df_final.endereco.str.split('\\s-').str[1]\n",
        "df_final['rua'] = df_final.endereco.str.split('\\s-').str[0]\n",
        "df_final['bairro'] = df_final.bairro.str.split(',').str[0]"
      ],
      "execution_count": null,
      "outputs": []
    },
    {
      "cell_type": "code",
      "metadata": {
        "id": "sDimntiOfGs3"
      },
      "source": [
        "df_final.head()"
      ],
      "execution_count": null,
      "outputs": []
    },
    {
      "cell_type": "code",
      "metadata": {
        "id": "aqPnCsfZfH9p"
      },
      "source": [
        "df_final['quartos'] = df_final.quartos.str.extract('(.*) Quarto')\n",
        "df_final['banheiro'] = df_final.banheiro.str.extract('(.*) Banheiro')\n",
        "df_final['vaga'] = df_final.vaga.str.extract('(.*) Vaga')\n",
        "df_final['area'] = df_final.area.str.extract('(.*)  m²')\n"
      ],
      "execution_count": null,
      "outputs": []
    },
    {
      "cell_type": "code",
      "metadata": {
        "id": "uXuFnvRDfMlu"
      },
      "source": [
        "df_final.head()"
      ],
      "execution_count": null,
      "outputs": []
    },
    {
      "cell_type": "code",
      "metadata": {
        "id": "10EgxU6UfR6s"
      },
      "source": [
        "\n",
        " df_final['aluguel'] = df_final.aluguel.str.extract('R\\$ (.*) /Mês')\n",
        " df_final['aluguel'] = df_final['aluguel'].replace('\\.', '', regex=True)"
      ],
      "execution_count": null,
      "outputs": []
    },
    {
      "cell_type": "code",
      "metadata": {
        "id": "8DWNnYaefV3M"
      },
      "source": [
        "df_final.head()"
      ],
      "execution_count": null,
      "outputs": []
    },
    {
      "cell_type": "code",
      "metadata": {
        "id": "ZO3D_SllfabZ"
      },
      "source": [
        "df_teste = df_final"
      ],
      "execution_count": null,
      "outputs": []
    },
    {
      "cell_type": "code",
      "metadata": {
        "id": "dzPAp61KfgW4"
      },
      "source": [
        "colunas = df_teste.drop(columns=['endereco','bairro','rua'])"
      ],
      "execution_count": null,
      "outputs": []
    },
    {
      "cell_type": "code",
      "metadata": {
        "id": "6VD9hMDOflS5"
      },
      "source": [
        "colunas"
      ],
      "execution_count": null,
      "outputs": []
    },
    {
      "cell_type": "code",
      "metadata": {
        "id": "N4XQMn36fm6U"
      },
      "source": [
        "df_teste.head()"
      ],
      "execution_count": null,
      "outputs": []
    }
  ]
}