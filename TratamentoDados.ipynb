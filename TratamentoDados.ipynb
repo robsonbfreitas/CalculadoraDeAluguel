{
  "nbformat": 4,
  "nbformat_minor": 0,
  "metadata": {
    "colab": {
      "name": "TratamentoDados.ipynb",
      "provenance": [],
      "authorship_tag": "ABX9TyPIT3Ls8p3ivxYdV30xeXSX",
      "include_colab_link": true
    },
    "kernelspec": {
      "name": "python3",
      "display_name": "Python 3"
    },
    "language_info": {
      "name": "python"
    }
  },
  "cells": [
    {
      "cell_type": "markdown",
      "metadata": {
        "id": "view-in-github",
        "colab_type": "text"
      },
      "source": [
        "<a href=\"https://colab.research.google.com/github/robsonbfreitas/CalculadoraDeAluguel/blob/main/TratamentoDados.ipynb\" target=\"_parent\"><img src=\"https://colab.research.google.com/assets/colab-badge.svg\" alt=\"Open In Colab\"/></a>"
      ]
    },
    {
      "cell_type": "code",
      "metadata": {
        "id": "yCFux7ckwJM3"
      },
      "source": [
        "import requests\n",
        "from bs4 import BeautifulSoup"
      ],
      "execution_count": 2,
      "outputs": []
    },
    {
      "cell_type": "code",
      "metadata": {
        "id": "s4KkZyLi5SF9"
      },
      "source": [
        "url = 'https://www.vivareal.com.br/venda/sp/sao-paulo/apartamento_residencial/'"
      ],
      "execution_count": 3,
      "outputs": []
    },
    {
      "cell_type": "code",
      "metadata": {
        "id": "a6_WasSS5iQG"
      },
      "source": [
        "c = requests.get(url).content"
      ],
      "execution_count": 4,
      "outputs": []
    },
    {
      "cell_type": "code",
      "metadata": {
        "id": "k0ux3luI5joW"
      },
      "source": [
        "soup = BeautifulSoup(c)"
      ],
      "execution_count": 5,
      "outputs": []
    },
    {
      "cell_type": "code",
      "metadata": {
        "id": "OG2G7be85q_N"
      },
      "source": [
        "aluguel_tag = soup.find_all('div', {'class':'property-card__price js-property-card-prices js-property-card__price-small'})"
      ],
      "execution_count": 6,
      "outputs": []
    },
    {
      "cell_type": "code",
      "metadata": {
        "colab": {
          "base_uri": "https://localhost:8080/"
        },
        "id": "yeB5-yaD55P8",
        "outputId": "ad019bf5-d3fb-427c-ef03-101613664e4b"
      },
      "source": [
        "len(aluguel_tag)\n",
        "paginas = ['']\n",
        "for i in range(2,40):\n",
        "    a = '?pagina='+str(i)\n",
        "    print(a)\n",
        "    paginas.append(a)\n"
      ],
      "execution_count": 7,
      "outputs": [
        {
          "output_type": "stream",
          "text": [
            "?pagina=2\n",
            "?pagina=3\n",
            "?pagina=4\n",
            "?pagina=5\n",
            "?pagina=6\n",
            "?pagina=7\n",
            "?pagina=8\n",
            "?pagina=9\n",
            "?pagina=10\n",
            "?pagina=11\n",
            "?pagina=12\n",
            "?pagina=13\n",
            "?pagina=14\n",
            "?pagina=15\n",
            "?pagina=16\n",
            "?pagina=17\n",
            "?pagina=18\n",
            "?pagina=19\n",
            "?pagina=20\n",
            "?pagina=21\n",
            "?pagina=22\n",
            "?pagina=23\n",
            "?pagina=24\n",
            "?pagina=25\n",
            "?pagina=26\n",
            "?pagina=27\n",
            "?pagina=28\n",
            "?pagina=29\n",
            "?pagina=30\n",
            "?pagina=31\n",
            "?pagina=32\n",
            "?pagina=33\n",
            "?pagina=34\n",
            "?pagina=35\n",
            "?pagina=36\n",
            "?pagina=37\n",
            "?pagina=38\n",
            "?pagina=39\n"
          ],
          "name": "stdout"
        }
      ]
    },
    {
      "cell_type": "code",
      "metadata": {
        "id": "oO0TYm2y6Cy1"
      },
      "source": [
        "import pandas as pd"
      ],
      "execution_count": 8,
      "outputs": []
    },
    {
      "cell_type": "code",
      "metadata": {
        "id": "uuO4kSsD6HO9"
      },
      "source": [
        "def converter_df(aluguel_lista,quartos_lista,endereco_lista,banheiro_lista,vaga_lista,area_lista):\n",
        "    data = {'aluguel':aluguel_lista,\n",
        "           'quartos':quartos_lista,\n",
        "           'endereco':endereco_lista,\n",
        "           'banheiro':banheiro_lista,\n",
        "            'vaga':vaga_lista,\n",
        "            'area':area_lista}\n",
        "    df = pd.DataFrame(data)\n",
        "    return df"
      ],
      "execution_count": 9,
      "outputs": []
    },
    {
      "cell_type": "code",
      "metadata": {
        "id": "dIexjp246LcD"
      },
      "source": [
        "def scrap(url):\n",
        "    c = requests.get(url).content\n",
        "    soup = BeautifulSoup(c)\n",
        "    \n",
        "    aluguel_tag = soup.find_all('div', {'class':'property-card__price js-property-card-prices js-property-card__price-small'}) \n",
        "    aluguel_lista = [p.text for p in aluguel_tag] \n",
        "    #print(len(aluguel_lista)) \n",
        "    \n",
        "    quartos_tag = soup.find_all('li', {'class': 'property-card__detail-item property-card__detail-room js-property-detail-rooms'}) \n",
        "    quartos_lista = [en.text for en in quartos_tag] \n",
        "    #print(len(quartos_lista)) \n",
        "    \n",
        "    endereco_tag = soup.find_all('span', {'class': 'property-card__address'}) \n",
        "    endereco_lista = [fg.text for fg in endereco_tag] \n",
        "    #print(len(endereco_lista)) \n",
        "    \n",
        "    banheiro_tag = soup.find_all('li', {'class': 'property-card__detail-item property-card__detail-bathroom js-property-detail-bathroom'}) \n",
        "    banheiro_lista = [yp.text for yp in banheiro_tag] \n",
        "    #print(len(banheiro_lista))\n",
        "\n",
        "    vaga_tag = soup.find_all('li', {'class': 'property-card__detail-item property-card__detail-garage js-property-detail-garages'}) \n",
        "    vaga_lista = [yp.text for yp in vaga_tag] \n",
        "\n",
        "    area_tag = soup.find_all('li', {'class': 'property-card__detail-item property-card__detail-area'}) \n",
        "    area_lista = [yp.text for yp in area_tag] \n",
        "\n",
        "\n",
        "    ### Vamos ter criar uma função para transformar listas em df\n",
        "    df=converter_df(aluguel_lista,quartos_lista,endereco_lista,banheiro_lista,vaga_lista,area_lista)\n",
        "    \n",
        "    return df\n"
      ],
      "execution_count": 10,
      "outputs": []
    },
    {
      "cell_type": "code",
      "metadata": {
        "id": "w97ldXMf6ZBz"
      },
      "source": [
        "URL = 'https://www.vivareal.com.br/aluguel/sp/sao-paulo/apartamento_residencial/{}'"
      ],
      "execution_count": 11,
      "outputs": []
    },
    {
      "cell_type": "code",
      "metadata": {
        "colab": {
          "base_uri": "https://localhost:8080/"
        },
        "id": "VVMERCB36d1H",
        "outputId": "6d82303a-3a8c-4b2f-df59-574fbc697c6a"
      },
      "source": [
        "df_lista = []\n",
        "for pg in paginas:\n",
        "    url = URL.format(pg)\n",
        "    print('Coletando URL:', url)\n",
        "    try:\n",
        "        df = scrap(url)\n",
        "    except Exception as e:\n",
        "        print('Erro ao coletar dados na url:', url)\n",
        "        print(e)\n",
        "    df_lista.append(df)"
      ],
      "execution_count": 12,
      "outputs": [
        {
          "output_type": "stream",
          "text": [
            "Coletando URL: https://www.vivareal.com.br/aluguel/sp/sao-paulo/apartamento_residencial/\n",
            "Coletando URL: https://www.vivareal.com.br/aluguel/sp/sao-paulo/apartamento_residencial/?pagina=2\n",
            "Coletando URL: https://www.vivareal.com.br/aluguel/sp/sao-paulo/apartamento_residencial/?pagina=3\n",
            "Coletando URL: https://www.vivareal.com.br/aluguel/sp/sao-paulo/apartamento_residencial/?pagina=4\n",
            "Coletando URL: https://www.vivareal.com.br/aluguel/sp/sao-paulo/apartamento_residencial/?pagina=5\n",
            "Coletando URL: https://www.vivareal.com.br/aluguel/sp/sao-paulo/apartamento_residencial/?pagina=6\n",
            "Coletando URL: https://www.vivareal.com.br/aluguel/sp/sao-paulo/apartamento_residencial/?pagina=7\n",
            "Coletando URL: https://www.vivareal.com.br/aluguel/sp/sao-paulo/apartamento_residencial/?pagina=8\n",
            "Coletando URL: https://www.vivareal.com.br/aluguel/sp/sao-paulo/apartamento_residencial/?pagina=9\n",
            "Coletando URL: https://www.vivareal.com.br/aluguel/sp/sao-paulo/apartamento_residencial/?pagina=10\n",
            "Coletando URL: https://www.vivareal.com.br/aluguel/sp/sao-paulo/apartamento_residencial/?pagina=11\n",
            "Coletando URL: https://www.vivareal.com.br/aluguel/sp/sao-paulo/apartamento_residencial/?pagina=12\n",
            "Coletando URL: https://www.vivareal.com.br/aluguel/sp/sao-paulo/apartamento_residencial/?pagina=13\n",
            "Coletando URL: https://www.vivareal.com.br/aluguel/sp/sao-paulo/apartamento_residencial/?pagina=14\n",
            "Coletando URL: https://www.vivareal.com.br/aluguel/sp/sao-paulo/apartamento_residencial/?pagina=15\n",
            "Coletando URL: https://www.vivareal.com.br/aluguel/sp/sao-paulo/apartamento_residencial/?pagina=16\n",
            "Coletando URL: https://www.vivareal.com.br/aluguel/sp/sao-paulo/apartamento_residencial/?pagina=17\n",
            "Coletando URL: https://www.vivareal.com.br/aluguel/sp/sao-paulo/apartamento_residencial/?pagina=18\n",
            "Coletando URL: https://www.vivareal.com.br/aluguel/sp/sao-paulo/apartamento_residencial/?pagina=19\n",
            "Coletando URL: https://www.vivareal.com.br/aluguel/sp/sao-paulo/apartamento_residencial/?pagina=20\n",
            "Coletando URL: https://www.vivareal.com.br/aluguel/sp/sao-paulo/apartamento_residencial/?pagina=21\n",
            "Coletando URL: https://www.vivareal.com.br/aluguel/sp/sao-paulo/apartamento_residencial/?pagina=22\n",
            "Coletando URL: https://www.vivareal.com.br/aluguel/sp/sao-paulo/apartamento_residencial/?pagina=23\n",
            "Coletando URL: https://www.vivareal.com.br/aluguel/sp/sao-paulo/apartamento_residencial/?pagina=24\n",
            "Coletando URL: https://www.vivareal.com.br/aluguel/sp/sao-paulo/apartamento_residencial/?pagina=25\n",
            "Coletando URL: https://www.vivareal.com.br/aluguel/sp/sao-paulo/apartamento_residencial/?pagina=26\n",
            "Coletando URL: https://www.vivareal.com.br/aluguel/sp/sao-paulo/apartamento_residencial/?pagina=27\n",
            "Coletando URL: https://www.vivareal.com.br/aluguel/sp/sao-paulo/apartamento_residencial/?pagina=28\n",
            "Coletando URL: https://www.vivareal.com.br/aluguel/sp/sao-paulo/apartamento_residencial/?pagina=29\n",
            "Coletando URL: https://www.vivareal.com.br/aluguel/sp/sao-paulo/apartamento_residencial/?pagina=30\n",
            "Coletando URL: https://www.vivareal.com.br/aluguel/sp/sao-paulo/apartamento_residencial/?pagina=31\n",
            "Coletando URL: https://www.vivareal.com.br/aluguel/sp/sao-paulo/apartamento_residencial/?pagina=32\n",
            "Coletando URL: https://www.vivareal.com.br/aluguel/sp/sao-paulo/apartamento_residencial/?pagina=33\n",
            "Coletando URL: https://www.vivareal.com.br/aluguel/sp/sao-paulo/apartamento_residencial/?pagina=34\n",
            "Coletando URL: https://www.vivareal.com.br/aluguel/sp/sao-paulo/apartamento_residencial/?pagina=35\n",
            "Coletando URL: https://www.vivareal.com.br/aluguel/sp/sao-paulo/apartamento_residencial/?pagina=36\n",
            "Coletando URL: https://www.vivareal.com.br/aluguel/sp/sao-paulo/apartamento_residencial/?pagina=37\n",
            "Coletando URL: https://www.vivareal.com.br/aluguel/sp/sao-paulo/apartamento_residencial/?pagina=38\n",
            "Coletando URL: https://www.vivareal.com.br/aluguel/sp/sao-paulo/apartamento_residencial/?pagina=39\n"
          ],
          "name": "stdout"
        }
      ]
    },
    {
      "cell_type": "code",
      "metadata": {
        "id": "Q-8XDE3x7y8C"
      },
      "source": [
        "df_final = pd.concat(df_lista)"
      ],
      "execution_count": 42,
      "outputs": []
    },
    {
      "cell_type": "code",
      "metadata": {
        "colab": {
          "base_uri": "https://localhost:8080/",
          "height": 204
        },
        "id": "s93s17N48KFK",
        "outputId": "7d8997b2-c022-464b-b7b2-4d5b2eb7bbde"
      },
      "source": [
        "df_final.head()"
      ],
      "execution_count": 43,
      "outputs": [
        {
          "output_type": "execute_result",
          "data": {
            "text/html": [
              "<div>\n",
              "<style scoped>\n",
              "    .dataframe tbody tr th:only-of-type {\n",
              "        vertical-align: middle;\n",
              "    }\n",
              "\n",
              "    .dataframe tbody tr th {\n",
              "        vertical-align: top;\n",
              "    }\n",
              "\n",
              "    .dataframe thead th {\n",
              "        text-align: right;\n",
              "    }\n",
              "</style>\n",
              "<table border=\"1\" class=\"dataframe\">\n",
              "  <thead>\n",
              "    <tr style=\"text-align: right;\">\n",
              "      <th></th>\n",
              "      <th>aluguel</th>\n",
              "      <th>quartos</th>\n",
              "      <th>endereco</th>\n",
              "      <th>banheiro</th>\n",
              "      <th>vaga</th>\n",
              "      <th>area</th>\n",
              "    </tr>\n",
              "  </thead>\n",
              "  <tbody>\n",
              "    <tr>\n",
              "      <th>0</th>\n",
              "      <td>R$ 2.500 /Mês</td>\n",
              "      <td>1   Quarto</td>\n",
              "      <td>Rua Castro Alves, 265 - Aclimação, São Paulo - SP</td>\n",
              "      <td>1   Banheiro</td>\n",
              "      <td>1   Vaga</td>\n",
              "      <td>50   m²</td>\n",
              "    </tr>\n",
              "    <tr>\n",
              "      <th>1</th>\n",
              "      <td>R$ 3.000 /Mês</td>\n",
              "      <td>2   Quartos</td>\n",
              "      <td>Rua Guararapes, 300 - Brooklin, São Paulo - SP</td>\n",
              "      <td>2   Banheiros</td>\n",
              "      <td>1   Vaga</td>\n",
              "      <td>76   m²</td>\n",
              "    </tr>\n",
              "    <tr>\n",
              "      <th>2</th>\n",
              "      <td>R$ 6.000 /Mês</td>\n",
              "      <td>2   Quartos</td>\n",
              "      <td>Alameda Joaquim Eugênio de Lima, 711 - Jardim ...</td>\n",
              "      <td>3   Banheiros</td>\n",
              "      <td>2   Vagas</td>\n",
              "      <td>80   m²</td>\n",
              "    </tr>\n",
              "    <tr>\n",
              "      <th>3</th>\n",
              "      <td>R$ 2.000 /Mês</td>\n",
              "      <td>1   Quarto</td>\n",
              "      <td>Avenida Divino Salvador - Planalto Paulista, S...</td>\n",
              "      <td>1   Banheiro</td>\n",
              "      <td>1   Vaga</td>\n",
              "      <td>40   m²</td>\n",
              "    </tr>\n",
              "    <tr>\n",
              "      <th>4</th>\n",
              "      <td>R$ 2.050 /Mês</td>\n",
              "      <td>3   Quartos</td>\n",
              "      <td>Avenida Marechal Mário Guedes, 02 - Jaguaré, S...</td>\n",
              "      <td>2   Banheiros</td>\n",
              "      <td>2   Vagas</td>\n",
              "      <td>70   m²</td>\n",
              "    </tr>\n",
              "  </tbody>\n",
              "</table>\n",
              "</div>"
            ],
            "text/plain": [
              "              aluguel          quartos  ...           vaga         area\n",
              "0     R$ 2.500 /Mês       1   Quarto    ...     1   Vaga      50   m²  \n",
              "1     R$ 3.000 /Mês      2   Quartos    ...     1   Vaga      76   m²  \n",
              "2     R$ 6.000 /Mês      2   Quartos    ...    2   Vagas      80   m²  \n",
              "3     R$ 2.000 /Mês       1   Quarto    ...     1   Vaga      40   m²  \n",
              "4     R$ 2.050 /Mês      3   Quartos    ...    2   Vagas      70   m²  \n",
              "\n",
              "[5 rows x 6 columns]"
            ]
          },
          "metadata": {
            "tags": []
          },
          "execution_count": 43
        }
      ]
    },
    {
      "cell_type": "code",
      "metadata": {
        "id": "4MeqkgXL8T6d"
      },
      "source": [
        "df_final['bairro'] = df_final.endereco.str.split('\\s-').str[1]\n",
        "df_final['rua'] = df_final.endereco.str.split('\\s-').str[0]\n",
        "df_final['bairro'] = df_final.bairro.str.split(',').str[0]"
      ],
      "execution_count": 44,
      "outputs": []
    },
    {
      "cell_type": "code",
      "metadata": {
        "colab": {
          "base_uri": "https://localhost:8080/",
          "height": 204
        },
        "id": "iA-STOTv8dz4",
        "outputId": "e1bdef18-fdfc-43a6-8056-14183c668ad4"
      },
      "source": [
        "df_final.head()"
      ],
      "execution_count": 45,
      "outputs": [
        {
          "output_type": "execute_result",
          "data": {
            "text/html": [
              "<div>\n",
              "<style scoped>\n",
              "    .dataframe tbody tr th:only-of-type {\n",
              "        vertical-align: middle;\n",
              "    }\n",
              "\n",
              "    .dataframe tbody tr th {\n",
              "        vertical-align: top;\n",
              "    }\n",
              "\n",
              "    .dataframe thead th {\n",
              "        text-align: right;\n",
              "    }\n",
              "</style>\n",
              "<table border=\"1\" class=\"dataframe\">\n",
              "  <thead>\n",
              "    <tr style=\"text-align: right;\">\n",
              "      <th></th>\n",
              "      <th>aluguel</th>\n",
              "      <th>quartos</th>\n",
              "      <th>endereco</th>\n",
              "      <th>banheiro</th>\n",
              "      <th>vaga</th>\n",
              "      <th>area</th>\n",
              "      <th>bairro</th>\n",
              "      <th>rua</th>\n",
              "    </tr>\n",
              "  </thead>\n",
              "  <tbody>\n",
              "    <tr>\n",
              "      <th>0</th>\n",
              "      <td>R$ 2.500 /Mês</td>\n",
              "      <td>1   Quarto</td>\n",
              "      <td>Rua Castro Alves, 265 - Aclimação, São Paulo - SP</td>\n",
              "      <td>1   Banheiro</td>\n",
              "      <td>1   Vaga</td>\n",
              "      <td>50   m²</td>\n",
              "      <td>Aclimação</td>\n",
              "      <td>Rua Castro Alves, 265</td>\n",
              "    </tr>\n",
              "    <tr>\n",
              "      <th>1</th>\n",
              "      <td>R$ 3.000 /Mês</td>\n",
              "      <td>2   Quartos</td>\n",
              "      <td>Rua Guararapes, 300 - Brooklin, São Paulo - SP</td>\n",
              "      <td>2   Banheiros</td>\n",
              "      <td>1   Vaga</td>\n",
              "      <td>76   m²</td>\n",
              "      <td>Brooklin</td>\n",
              "      <td>Rua Guararapes, 300</td>\n",
              "    </tr>\n",
              "    <tr>\n",
              "      <th>2</th>\n",
              "      <td>R$ 6.000 /Mês</td>\n",
              "      <td>2   Quartos</td>\n",
              "      <td>Alameda Joaquim Eugênio de Lima, 711 - Jardim ...</td>\n",
              "      <td>3   Banheiros</td>\n",
              "      <td>2   Vagas</td>\n",
              "      <td>80   m²</td>\n",
              "      <td>Jardim Paulista</td>\n",
              "      <td>Alameda Joaquim Eugênio de Lima, 711</td>\n",
              "    </tr>\n",
              "    <tr>\n",
              "      <th>3</th>\n",
              "      <td>R$ 2.000 /Mês</td>\n",
              "      <td>1   Quarto</td>\n",
              "      <td>Avenida Divino Salvador - Planalto Paulista, S...</td>\n",
              "      <td>1   Banheiro</td>\n",
              "      <td>1   Vaga</td>\n",
              "      <td>40   m²</td>\n",
              "      <td>Planalto Paulista</td>\n",
              "      <td>Avenida Divino Salvador</td>\n",
              "    </tr>\n",
              "    <tr>\n",
              "      <th>4</th>\n",
              "      <td>R$ 2.050 /Mês</td>\n",
              "      <td>3   Quartos</td>\n",
              "      <td>Avenida Marechal Mário Guedes, 02 - Jaguaré, S...</td>\n",
              "      <td>2   Banheiros</td>\n",
              "      <td>2   Vagas</td>\n",
              "      <td>70   m²</td>\n",
              "      <td>Jaguaré</td>\n",
              "      <td>Avenida Marechal Mário Guedes, 02</td>\n",
              "    </tr>\n",
              "  </tbody>\n",
              "</table>\n",
              "</div>"
            ],
            "text/plain": [
              "              aluguel  ...                                   rua\n",
              "0     R$ 2.500 /Mês    ...                 Rua Castro Alves, 265\n",
              "1     R$ 3.000 /Mês    ...                   Rua Guararapes, 300\n",
              "2     R$ 6.000 /Mês    ...  Alameda Joaquim Eugênio de Lima, 711\n",
              "3     R$ 2.000 /Mês    ...               Avenida Divino Salvador\n",
              "4     R$ 2.050 /Mês    ...     Avenida Marechal Mário Guedes, 02\n",
              "\n",
              "[5 rows x 8 columns]"
            ]
          },
          "metadata": {
            "tags": []
          },
          "execution_count": 45
        }
      ]
    },
    {
      "cell_type": "code",
      "metadata": {
        "id": "hWneIdeFCqFh"
      },
      "source": [
        "df_final['quartos'] = df_final.quartos.str.extract('(.*) Quarto')\n",
        "df_final['banheiro'] = df_final.banheiro.str.extract('(.*) Banheiro')\n",
        "df_final['vaga'] = df_final.vaga.str.extract('(.*) Vaga')\n",
        "df_final['area'] = df_final.area.str.extract('(.*)  m²')"
      ],
      "execution_count": 46,
      "outputs": []
    },
    {
      "cell_type": "code",
      "metadata": {
        "id": "yEraK6L8FviI",
        "outputId": "07e3ce75-ed4a-40fc-df43-85a98663aad3",
        "colab": {
          "base_uri": "https://localhost:8080/",
          "height": 204
        }
      },
      "source": [
        "df_final.head()"
      ],
      "execution_count": 47,
      "outputs": [
        {
          "output_type": "execute_result",
          "data": {
            "text/html": [
              "<div>\n",
              "<style scoped>\n",
              "    .dataframe tbody tr th:only-of-type {\n",
              "        vertical-align: middle;\n",
              "    }\n",
              "\n",
              "    .dataframe tbody tr th {\n",
              "        vertical-align: top;\n",
              "    }\n",
              "\n",
              "    .dataframe thead th {\n",
              "        text-align: right;\n",
              "    }\n",
              "</style>\n",
              "<table border=\"1\" class=\"dataframe\">\n",
              "  <thead>\n",
              "    <tr style=\"text-align: right;\">\n",
              "      <th></th>\n",
              "      <th>aluguel</th>\n",
              "      <th>quartos</th>\n",
              "      <th>endereco</th>\n",
              "      <th>banheiro</th>\n",
              "      <th>vaga</th>\n",
              "      <th>area</th>\n",
              "      <th>bairro</th>\n",
              "      <th>rua</th>\n",
              "    </tr>\n",
              "  </thead>\n",
              "  <tbody>\n",
              "    <tr>\n",
              "      <th>0</th>\n",
              "      <td>R$ 2.500 /Mês</td>\n",
              "      <td>1</td>\n",
              "      <td>Rua Castro Alves, 265 - Aclimação, São Paulo - SP</td>\n",
              "      <td>1</td>\n",
              "      <td>1</td>\n",
              "      <td>50</td>\n",
              "      <td>Aclimação</td>\n",
              "      <td>Rua Castro Alves, 265</td>\n",
              "    </tr>\n",
              "    <tr>\n",
              "      <th>1</th>\n",
              "      <td>R$ 3.000 /Mês</td>\n",
              "      <td>2</td>\n",
              "      <td>Rua Guararapes, 300 - Brooklin, São Paulo - SP</td>\n",
              "      <td>2</td>\n",
              "      <td>1</td>\n",
              "      <td>76</td>\n",
              "      <td>Brooklin</td>\n",
              "      <td>Rua Guararapes, 300</td>\n",
              "    </tr>\n",
              "    <tr>\n",
              "      <th>2</th>\n",
              "      <td>R$ 6.000 /Mês</td>\n",
              "      <td>2</td>\n",
              "      <td>Alameda Joaquim Eugênio de Lima, 711 - Jardim ...</td>\n",
              "      <td>3</td>\n",
              "      <td>2</td>\n",
              "      <td>80</td>\n",
              "      <td>Jardim Paulista</td>\n",
              "      <td>Alameda Joaquim Eugênio de Lima, 711</td>\n",
              "    </tr>\n",
              "    <tr>\n",
              "      <th>3</th>\n",
              "      <td>R$ 2.000 /Mês</td>\n",
              "      <td>1</td>\n",
              "      <td>Avenida Divino Salvador - Planalto Paulista, S...</td>\n",
              "      <td>1</td>\n",
              "      <td>1</td>\n",
              "      <td>40</td>\n",
              "      <td>Planalto Paulista</td>\n",
              "      <td>Avenida Divino Salvador</td>\n",
              "    </tr>\n",
              "    <tr>\n",
              "      <th>4</th>\n",
              "      <td>R$ 2.050 /Mês</td>\n",
              "      <td>3</td>\n",
              "      <td>Avenida Marechal Mário Guedes, 02 - Jaguaré, S...</td>\n",
              "      <td>2</td>\n",
              "      <td>2</td>\n",
              "      <td>70</td>\n",
              "      <td>Jaguaré</td>\n",
              "      <td>Avenida Marechal Mário Guedes, 02</td>\n",
              "    </tr>\n",
              "  </tbody>\n",
              "</table>\n",
              "</div>"
            ],
            "text/plain": [
              "              aluguel  ...                                   rua\n",
              "0     R$ 2.500 /Mês    ...                 Rua Castro Alves, 265\n",
              "1     R$ 3.000 /Mês    ...                   Rua Guararapes, 300\n",
              "2     R$ 6.000 /Mês    ...  Alameda Joaquim Eugênio de Lima, 711\n",
              "3     R$ 2.000 /Mês    ...               Avenida Divino Salvador\n",
              "4     R$ 2.050 /Mês    ...     Avenida Marechal Mário Guedes, 02\n",
              "\n",
              "[5 rows x 8 columns]"
            ]
          },
          "metadata": {
            "tags": []
          },
          "execution_count": 47
        }
      ]
    }
  ]
}