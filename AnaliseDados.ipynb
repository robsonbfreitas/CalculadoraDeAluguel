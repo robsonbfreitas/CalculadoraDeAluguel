{
  "nbformat": 4,
  "nbformat_minor": 0,
  "metadata": {
    "colab": {
      "name": "AnaliseDados.ipynb",
      "provenance": [],
      "include_colab_link": true
    },
    "kernelspec": {
      "name": "python3",
      "display_name": "Python 3"
    },
    "language_info": {
      "name": "python"
    }
  },
  "cells": [
    {
      "cell_type": "markdown",
      "metadata": {
        "id": "view-in-github",
        "colab_type": "text"
      },
      "source": [
        "<a href=\"https://colab.research.google.com/github/robsonbfreitas/CalculadoraDeAluguel/blob/main/AnaliseDados.ipynb\" target=\"_parent\"><img src=\"https://colab.research.google.com/assets/colab-badge.svg\" alt=\"Open In Colab\"/></a>"
      ]
    },
    {
      "cell_type": "code",
      "metadata": {
        "id": "yCFux7ckwJM3"
      },
      "source": [
        "import requests\n",
        "from bs4 import BeautifulSoup"
      ],
      "execution_count": 1,
      "outputs": []
    },
    {
      "cell_type": "code",
      "metadata": {
        "id": "s4KkZyLi5SF9"
      },
      "source": [
        "url = 'https://www.vivareal.com.br/venda/sp/sao-paulo/apartamento_residencial/'"
      ],
      "execution_count": 2,
      "outputs": []
    },
    {
      "cell_type": "code",
      "metadata": {
        "id": "a6_WasSS5iQG"
      },
      "source": [
        "c = requests.get(url).content"
      ],
      "execution_count": 3,
      "outputs": []
    },
    {
      "cell_type": "code",
      "metadata": {
        "id": "k0ux3luI5joW"
      },
      "source": [
        "soup = BeautifulSoup(c)"
      ],
      "execution_count": 4,
      "outputs": []
    },
    {
      "cell_type": "code",
      "metadata": {
        "id": "OG2G7be85q_N"
      },
      "source": [
        "aluguel_tag = soup.find_all('div', {'class':'property-card__price js-property-card-prices js-property-card__price-small'})"
      ],
      "execution_count": 5,
      "outputs": []
    },
    {
      "cell_type": "code",
      "metadata": {
        "colab": {
          "base_uri": "https://localhost:8080/"
        },
        "id": "yeB5-yaD55P8",
        "outputId": "7d8345ed-0ef2-408f-ebaa-6aacacdd1f8c"
      },
      "source": [
        "len(aluguel_tag)\n",
        "paginas = ['']\n",
        "for i in range(2,40):\n",
        "    a = '?pagina='+str(i)\n",
        "    print(a)\n",
        "    paginas.append(a)\n"
      ],
      "execution_count": 6,
      "outputs": [
        {
          "output_type": "stream",
          "text": [
            "?pagina=2\n",
            "?pagina=3\n",
            "?pagina=4\n",
            "?pagina=5\n",
            "?pagina=6\n",
            "?pagina=7\n",
            "?pagina=8\n",
            "?pagina=9\n",
            "?pagina=10\n",
            "?pagina=11\n",
            "?pagina=12\n",
            "?pagina=13\n",
            "?pagina=14\n",
            "?pagina=15\n",
            "?pagina=16\n",
            "?pagina=17\n",
            "?pagina=18\n",
            "?pagina=19\n",
            "?pagina=20\n",
            "?pagina=21\n",
            "?pagina=22\n",
            "?pagina=23\n",
            "?pagina=24\n",
            "?pagina=25\n",
            "?pagina=26\n",
            "?pagina=27\n",
            "?pagina=28\n",
            "?pagina=29\n",
            "?pagina=30\n",
            "?pagina=31\n",
            "?pagina=32\n",
            "?pagina=33\n",
            "?pagina=34\n",
            "?pagina=35\n",
            "?pagina=36\n",
            "?pagina=37\n",
            "?pagina=38\n",
            "?pagina=39\n"
          ],
          "name": "stdout"
        }
      ]
    },
    {
      "cell_type": "code",
      "metadata": {
        "id": "oO0TYm2y6Cy1"
      },
      "source": [
        "import pandas as pd"
      ],
      "execution_count": 7,
      "outputs": []
    },
    {
      "cell_type": "code",
      "metadata": {
        "id": "uuO4kSsD6HO9"
      },
      "source": [
        "def converter_df(aluguel_lista,quartos_lista,endereco_lista,banheiro_lista,vaga_lista,area_lista):\n",
        "    data = {'aluguel':aluguel_lista,\n",
        "           'quartos':quartos_lista,\n",
        "           'endereco':endereco_lista,\n",
        "           'banheiro':banheiro_lista,\n",
        "            'vaga':vaga_lista,\n",
        "            'area':area_lista}\n",
        "    df = pd.DataFrame(data)\n",
        "    return df"
      ],
      "execution_count": 8,
      "outputs": []
    },
    {
      "cell_type": "code",
      "metadata": {
        "id": "dIexjp246LcD"
      },
      "source": [
        "def scrap(url):\n",
        "    c = requests.get(url).content\n",
        "    soup = BeautifulSoup(c)\n",
        "    \n",
        "    aluguel_tag = soup.find_all('div', {'class':'property-card__price js-property-card-prices js-property-card__price-small'}) \n",
        "    aluguel_lista = [p.text for p in aluguel_tag] \n",
        "    #print(len(aluguel_lista)) \n",
        "    \n",
        "    quartos_tag = soup.find_all('li', {'class': 'property-card__detail-item property-card__detail-room js-property-detail-rooms'}) \n",
        "    quartos_lista = [en.text for en in quartos_tag] \n",
        "    #print(len(quartos_lista)) \n",
        "    \n",
        "    endereco_tag = soup.find_all('span', {'class': 'property-card__address'}) \n",
        "    endereco_lista = [fg.text for fg in endereco_tag] \n",
        "    #print(len(endereco_lista)) \n",
        "    \n",
        "    banheiro_tag = soup.find_all('li', {'class': 'property-card__detail-item property-card__detail-bathroom js-property-detail-bathroom'}) \n",
        "    banheiro_lista = [yp.text for yp in banheiro_tag] \n",
        "    #print(len(banheiro_lista))\n",
        "\n",
        "    vaga_tag = soup.find_all('li', {'class': 'property-card__detail-item property-card__detail-garage js-property-detail-garages'}) \n",
        "    vaga_lista = [yp.text for yp in vaga_tag] \n",
        "\n",
        "    area_tag = soup.find_all('li', {'class': 'property-card__detail-item property-card__detail-area'}) \n",
        "    area_lista = [yp.text for yp in area_tag] \n",
        "\n",
        "\n",
        "    ### Vamos ter criar uma função para transformar listas em df\n",
        "    df=converter_df(aluguel_lista,quartos_lista,endereco_lista,banheiro_lista,vaga_lista,area_lista)\n",
        "    \n",
        "    return df\n"
      ],
      "execution_count": 9,
      "outputs": []
    },
    {
      "cell_type": "code",
      "metadata": {
        "id": "w97ldXMf6ZBz"
      },
      "source": [
        "URL = 'https://www.vivareal.com.br/aluguel/sp/sao-paulo/apartamento_residencial/{}'"
      ],
      "execution_count": 10,
      "outputs": []
    },
    {
      "cell_type": "code",
      "metadata": {
        "colab": {
          "base_uri": "https://localhost:8080/"
        },
        "id": "VVMERCB36d1H",
        "outputId": "1d6bdf76-1956-4d27-878d-230e1e3fc962"
      },
      "source": [
        "df_lista = []\n",
        "for pg in paginas:\n",
        "    url = URL.format(pg)\n",
        "    print('Coletando URL:', url)\n",
        "    try:\n",
        "        df = scrap(url)\n",
        "    except Exception as e:\n",
        "        print('Erro ao coletar dados na url:', url)\n",
        "        print(e)\n",
        "    df_lista.append(df)"
      ],
      "execution_count": 11,
      "outputs": [
        {
          "output_type": "stream",
          "text": [
            "Coletando URL: https://www.vivareal.com.br/aluguel/sp/sao-paulo/apartamento_residencial/\n",
            "Coletando URL: https://www.vivareal.com.br/aluguel/sp/sao-paulo/apartamento_residencial/?pagina=2\n",
            "Coletando URL: https://www.vivareal.com.br/aluguel/sp/sao-paulo/apartamento_residencial/?pagina=3\n",
            "Coletando URL: https://www.vivareal.com.br/aluguel/sp/sao-paulo/apartamento_residencial/?pagina=4\n",
            "Coletando URL: https://www.vivareal.com.br/aluguel/sp/sao-paulo/apartamento_residencial/?pagina=5\n",
            "Coletando URL: https://www.vivareal.com.br/aluguel/sp/sao-paulo/apartamento_residencial/?pagina=6\n",
            "Coletando URL: https://www.vivareal.com.br/aluguel/sp/sao-paulo/apartamento_residencial/?pagina=7\n",
            "Coletando URL: https://www.vivareal.com.br/aluguel/sp/sao-paulo/apartamento_residencial/?pagina=8\n",
            "Coletando URL: https://www.vivareal.com.br/aluguel/sp/sao-paulo/apartamento_residencial/?pagina=9\n",
            "Coletando URL: https://www.vivareal.com.br/aluguel/sp/sao-paulo/apartamento_residencial/?pagina=10\n",
            "Coletando URL: https://www.vivareal.com.br/aluguel/sp/sao-paulo/apartamento_residencial/?pagina=11\n",
            "Coletando URL: https://www.vivareal.com.br/aluguel/sp/sao-paulo/apartamento_residencial/?pagina=12\n",
            "Coletando URL: https://www.vivareal.com.br/aluguel/sp/sao-paulo/apartamento_residencial/?pagina=13\n",
            "Coletando URL: https://www.vivareal.com.br/aluguel/sp/sao-paulo/apartamento_residencial/?pagina=14\n",
            "Coletando URL: https://www.vivareal.com.br/aluguel/sp/sao-paulo/apartamento_residencial/?pagina=15\n",
            "Coletando URL: https://www.vivareal.com.br/aluguel/sp/sao-paulo/apartamento_residencial/?pagina=16\n",
            "Coletando URL: https://www.vivareal.com.br/aluguel/sp/sao-paulo/apartamento_residencial/?pagina=17\n",
            "Coletando URL: https://www.vivareal.com.br/aluguel/sp/sao-paulo/apartamento_residencial/?pagina=18\n",
            "Coletando URL: https://www.vivareal.com.br/aluguel/sp/sao-paulo/apartamento_residencial/?pagina=19\n",
            "Coletando URL: https://www.vivareal.com.br/aluguel/sp/sao-paulo/apartamento_residencial/?pagina=20\n",
            "Coletando URL: https://www.vivareal.com.br/aluguel/sp/sao-paulo/apartamento_residencial/?pagina=21\n",
            "Coletando URL: https://www.vivareal.com.br/aluguel/sp/sao-paulo/apartamento_residencial/?pagina=22\n",
            "Coletando URL: https://www.vivareal.com.br/aluguel/sp/sao-paulo/apartamento_residencial/?pagina=23\n",
            "Coletando URL: https://www.vivareal.com.br/aluguel/sp/sao-paulo/apartamento_residencial/?pagina=24\n",
            "Coletando URL: https://www.vivareal.com.br/aluguel/sp/sao-paulo/apartamento_residencial/?pagina=25\n",
            "Coletando URL: https://www.vivareal.com.br/aluguel/sp/sao-paulo/apartamento_residencial/?pagina=26\n",
            "Coletando URL: https://www.vivareal.com.br/aluguel/sp/sao-paulo/apartamento_residencial/?pagina=27\n",
            "Coletando URL: https://www.vivareal.com.br/aluguel/sp/sao-paulo/apartamento_residencial/?pagina=28\n",
            "Coletando URL: https://www.vivareal.com.br/aluguel/sp/sao-paulo/apartamento_residencial/?pagina=29\n",
            "Coletando URL: https://www.vivareal.com.br/aluguel/sp/sao-paulo/apartamento_residencial/?pagina=30\n",
            "Coletando URL: https://www.vivareal.com.br/aluguel/sp/sao-paulo/apartamento_residencial/?pagina=31\n",
            "Coletando URL: https://www.vivareal.com.br/aluguel/sp/sao-paulo/apartamento_residencial/?pagina=32\n",
            "Coletando URL: https://www.vivareal.com.br/aluguel/sp/sao-paulo/apartamento_residencial/?pagina=33\n",
            "Coletando URL: https://www.vivareal.com.br/aluguel/sp/sao-paulo/apartamento_residencial/?pagina=34\n",
            "Coletando URL: https://www.vivareal.com.br/aluguel/sp/sao-paulo/apartamento_residencial/?pagina=35\n",
            "Coletando URL: https://www.vivareal.com.br/aluguel/sp/sao-paulo/apartamento_residencial/?pagina=36\n",
            "Coletando URL: https://www.vivareal.com.br/aluguel/sp/sao-paulo/apartamento_residencial/?pagina=37\n",
            "Coletando URL: https://www.vivareal.com.br/aluguel/sp/sao-paulo/apartamento_residencial/?pagina=38\n",
            "Coletando URL: https://www.vivareal.com.br/aluguel/sp/sao-paulo/apartamento_residencial/?pagina=39\n"
          ],
          "name": "stdout"
        }
      ]
    },
    {
      "cell_type": "code",
      "metadata": {
        "id": "Q-8XDE3x7y8C"
      },
      "source": [
        "df_final = pd.concat(df_lista)"
      ],
      "execution_count": 12,
      "outputs": []
    },
    {
      "cell_type": "code",
      "metadata": {
        "colab": {
          "base_uri": "https://localhost:8080/",
          "height": 204
        },
        "id": "s93s17N48KFK",
        "outputId": "f7caca6c-0a47-4a1a-b3d3-7267321dbe87"
      },
      "source": [
        "df_final.head()"
      ],
      "execution_count": 13,
      "outputs": [
        {
          "output_type": "execute_result",
          "data": {
            "text/html": [
              "<div>\n",
              "<style scoped>\n",
              "    .dataframe tbody tr th:only-of-type {\n",
              "        vertical-align: middle;\n",
              "    }\n",
              "\n",
              "    .dataframe tbody tr th {\n",
              "        vertical-align: top;\n",
              "    }\n",
              "\n",
              "    .dataframe thead th {\n",
              "        text-align: right;\n",
              "    }\n",
              "</style>\n",
              "<table border=\"1\" class=\"dataframe\">\n",
              "  <thead>\n",
              "    <tr style=\"text-align: right;\">\n",
              "      <th></th>\n",
              "      <th>aluguel</th>\n",
              "      <th>quartos</th>\n",
              "      <th>endereco</th>\n",
              "      <th>banheiro</th>\n",
              "      <th>vaga</th>\n",
              "      <th>area</th>\n",
              "    </tr>\n",
              "  </thead>\n",
              "  <tbody>\n",
              "    <tr>\n",
              "      <th>0</th>\n",
              "      <td>R$ 1.900 /Mês</td>\n",
              "      <td>2   Quartos</td>\n",
              "      <td>Rua Cônego Vicente Miguel Marino, 29 - Barra F...</td>\n",
              "      <td>1   Banheiro</td>\n",
              "      <td>--   Vaga</td>\n",
              "      <td>33   m²</td>\n",
              "    </tr>\n",
              "    <tr>\n",
              "      <th>1</th>\n",
              "      <td>R$ 2.800 /Mês</td>\n",
              "      <td>1   Quarto</td>\n",
              "      <td>Rua Almirante Brasil, 243 - Móoca, São Paulo - SP</td>\n",
              "      <td>2   Banheiros</td>\n",
              "      <td>1   Vaga</td>\n",
              "      <td>70   m²</td>\n",
              "    </tr>\n",
              "    <tr>\n",
              "      <th>2</th>\n",
              "      <td>R$ 2.690 /Mês</td>\n",
              "      <td>2   Quartos</td>\n",
              "      <td>Rua Doutor Diogo de Faria, 929 - Vila Clementi...</td>\n",
              "      <td>2   Banheiros</td>\n",
              "      <td>1   Vaga</td>\n",
              "      <td>73   m²</td>\n",
              "    </tr>\n",
              "    <tr>\n",
              "      <th>3</th>\n",
              "      <td>R$ 3.600 /Mês</td>\n",
              "      <td>1   Quarto</td>\n",
              "      <td>Rua Gomes de Carvalho, 1146 - Vila Olímpia, Sã...</td>\n",
              "      <td>1   Banheiro</td>\n",
              "      <td>1   Vaga</td>\n",
              "      <td>35   m²</td>\n",
              "    </tr>\n",
              "    <tr>\n",
              "      <th>4</th>\n",
              "      <td>R$ 1.050 /Mês</td>\n",
              "      <td>1   Quarto</td>\n",
              "      <td>Centro, São Paulo - SP</td>\n",
              "      <td>1   Banheiro</td>\n",
              "      <td>--   Vaga</td>\n",
              "      <td>38   m²</td>\n",
              "    </tr>\n",
              "  </tbody>\n",
              "</table>\n",
              "</div>"
            ],
            "text/plain": [
              "              aluguel          quartos  ...           vaga         area\n",
              "0     R$ 1.900 /Mês      2   Quartos    ...    --   Vaga      33   m²  \n",
              "1     R$ 2.800 /Mês       1   Quarto    ...     1   Vaga      70   m²  \n",
              "2     R$ 2.690 /Mês      2   Quartos    ...     1   Vaga      73   m²  \n",
              "3     R$ 3.600 /Mês       1   Quarto    ...     1   Vaga      35   m²  \n",
              "4     R$ 1.050 /Mês       1   Quarto    ...    --   Vaga      38   m²  \n",
              "\n",
              "[5 rows x 6 columns]"
            ]
          },
          "metadata": {
            "tags": []
          },
          "execution_count": 13
        }
      ]
    },
    {
      "cell_type": "code",
      "metadata": {
        "id": "4MeqkgXL8T6d"
      },
      "source": [
        "df_final['bairro'] = df_final.endereco.str.split('\\s-').str[1]\n",
        "df_final['rua'] = df_final.endereco.str.split('\\s-').str[0]\n",
        "df_final['bairro'] = df_final.bairro.str.split(',').str[0]"
      ],
      "execution_count": 14,
      "outputs": []
    },
    {
      "cell_type": "code",
      "metadata": {
        "colab": {
          "base_uri": "https://localhost:8080/",
          "height": 204
        },
        "id": "iA-STOTv8dz4",
        "outputId": "03bbabde-dccb-412d-d5d3-9f6d846c6275"
      },
      "source": [
        "df_final.head()"
      ],
      "execution_count": 15,
      "outputs": [
        {
          "output_type": "execute_result",
          "data": {
            "text/html": [
              "<div>\n",
              "<style scoped>\n",
              "    .dataframe tbody tr th:only-of-type {\n",
              "        vertical-align: middle;\n",
              "    }\n",
              "\n",
              "    .dataframe tbody tr th {\n",
              "        vertical-align: top;\n",
              "    }\n",
              "\n",
              "    .dataframe thead th {\n",
              "        text-align: right;\n",
              "    }\n",
              "</style>\n",
              "<table border=\"1\" class=\"dataframe\">\n",
              "  <thead>\n",
              "    <tr style=\"text-align: right;\">\n",
              "      <th></th>\n",
              "      <th>aluguel</th>\n",
              "      <th>quartos</th>\n",
              "      <th>endereco</th>\n",
              "      <th>banheiro</th>\n",
              "      <th>vaga</th>\n",
              "      <th>area</th>\n",
              "      <th>bairro</th>\n",
              "      <th>rua</th>\n",
              "    </tr>\n",
              "  </thead>\n",
              "  <tbody>\n",
              "    <tr>\n",
              "      <th>0</th>\n",
              "      <td>R$ 1.900 /Mês</td>\n",
              "      <td>2   Quartos</td>\n",
              "      <td>Rua Cônego Vicente Miguel Marino, 29 - Barra F...</td>\n",
              "      <td>1   Banheiro</td>\n",
              "      <td>--   Vaga</td>\n",
              "      <td>33   m²</td>\n",
              "      <td>Barra Funda</td>\n",
              "      <td>Rua Cônego Vicente Miguel Marino, 29</td>\n",
              "    </tr>\n",
              "    <tr>\n",
              "      <th>1</th>\n",
              "      <td>R$ 2.800 /Mês</td>\n",
              "      <td>1   Quarto</td>\n",
              "      <td>Rua Almirante Brasil, 243 - Móoca, São Paulo - SP</td>\n",
              "      <td>2   Banheiros</td>\n",
              "      <td>1   Vaga</td>\n",
              "      <td>70   m²</td>\n",
              "      <td>Móoca</td>\n",
              "      <td>Rua Almirante Brasil, 243</td>\n",
              "    </tr>\n",
              "    <tr>\n",
              "      <th>2</th>\n",
              "      <td>R$ 2.690 /Mês</td>\n",
              "      <td>2   Quartos</td>\n",
              "      <td>Rua Doutor Diogo de Faria, 929 - Vila Clementi...</td>\n",
              "      <td>2   Banheiros</td>\n",
              "      <td>1   Vaga</td>\n",
              "      <td>73   m²</td>\n",
              "      <td>Vila Clementino</td>\n",
              "      <td>Rua Doutor Diogo de Faria, 929</td>\n",
              "    </tr>\n",
              "    <tr>\n",
              "      <th>3</th>\n",
              "      <td>R$ 3.600 /Mês</td>\n",
              "      <td>1   Quarto</td>\n",
              "      <td>Rua Gomes de Carvalho, 1146 - Vila Olímpia, Sã...</td>\n",
              "      <td>1   Banheiro</td>\n",
              "      <td>1   Vaga</td>\n",
              "      <td>35   m²</td>\n",
              "      <td>Vila Olímpia</td>\n",
              "      <td>Rua Gomes de Carvalho, 1146</td>\n",
              "    </tr>\n",
              "    <tr>\n",
              "      <th>4</th>\n",
              "      <td>R$ 1.050 /Mês</td>\n",
              "      <td>1   Quarto</td>\n",
              "      <td>Centro, São Paulo - SP</td>\n",
              "      <td>1   Banheiro</td>\n",
              "      <td>--   Vaga</td>\n",
              "      <td>38   m²</td>\n",
              "      <td>SP</td>\n",
              "      <td>Centro, São Paulo</td>\n",
              "    </tr>\n",
              "  </tbody>\n",
              "</table>\n",
              "</div>"
            ],
            "text/plain": [
              "              aluguel  ...                                   rua\n",
              "0     R$ 1.900 /Mês    ...  Rua Cônego Vicente Miguel Marino, 29\n",
              "1     R$ 2.800 /Mês    ...             Rua Almirante Brasil, 243\n",
              "2     R$ 2.690 /Mês    ...        Rua Doutor Diogo de Faria, 929\n",
              "3     R$ 3.600 /Mês    ...           Rua Gomes de Carvalho, 1146\n",
              "4     R$ 1.050 /Mês    ...                     Centro, São Paulo\n",
              "\n",
              "[5 rows x 8 columns]"
            ]
          },
          "metadata": {
            "tags": []
          },
          "execution_count": 15
        }
      ]
    },
    {
      "cell_type": "code",
      "metadata": {
        "id": "hWneIdeFCqFh"
      },
      "source": [
        "df_final['quartos'] = df_final.quartos.str.extract('(.*) Quarto')\n",
        "df_final['banheiro'] = df_final.banheiro.str.extract('(.*) Banheiro')\n",
        "df_final['vaga'] = df_final.vaga.str.extract('(.*) Vaga')\n",
        "df_final['area'] = df_final.area.str.extract('(.*)  m²')"
      ],
      "execution_count": 16,
      "outputs": []
    },
    {
      "cell_type": "code",
      "metadata": {
        "colab": {
          "base_uri": "https://localhost:8080/",
          "height": 204
        },
        "id": "yEraK6L8FviI",
        "outputId": "b6317d33-0dd4-404b-f4a8-1520070d5ecb"
      },
      "source": [
        "df_final.head()"
      ],
      "execution_count": 17,
      "outputs": [
        {
          "output_type": "execute_result",
          "data": {
            "text/html": [
              "<div>\n",
              "<style scoped>\n",
              "    .dataframe tbody tr th:only-of-type {\n",
              "        vertical-align: middle;\n",
              "    }\n",
              "\n",
              "    .dataframe tbody tr th {\n",
              "        vertical-align: top;\n",
              "    }\n",
              "\n",
              "    .dataframe thead th {\n",
              "        text-align: right;\n",
              "    }\n",
              "</style>\n",
              "<table border=\"1\" class=\"dataframe\">\n",
              "  <thead>\n",
              "    <tr style=\"text-align: right;\">\n",
              "      <th></th>\n",
              "      <th>aluguel</th>\n",
              "      <th>quartos</th>\n",
              "      <th>endereco</th>\n",
              "      <th>banheiro</th>\n",
              "      <th>vaga</th>\n",
              "      <th>area</th>\n",
              "      <th>bairro</th>\n",
              "      <th>rua</th>\n",
              "    </tr>\n",
              "  </thead>\n",
              "  <tbody>\n",
              "    <tr>\n",
              "      <th>0</th>\n",
              "      <td>R$ 1.900 /Mês</td>\n",
              "      <td>2</td>\n",
              "      <td>Rua Cônego Vicente Miguel Marino, 29 - Barra F...</td>\n",
              "      <td>1</td>\n",
              "      <td>--</td>\n",
              "      <td>33</td>\n",
              "      <td>Barra Funda</td>\n",
              "      <td>Rua Cônego Vicente Miguel Marino, 29</td>\n",
              "    </tr>\n",
              "    <tr>\n",
              "      <th>1</th>\n",
              "      <td>R$ 2.800 /Mês</td>\n",
              "      <td>1</td>\n",
              "      <td>Rua Almirante Brasil, 243 - Móoca, São Paulo - SP</td>\n",
              "      <td>2</td>\n",
              "      <td>1</td>\n",
              "      <td>70</td>\n",
              "      <td>Móoca</td>\n",
              "      <td>Rua Almirante Brasil, 243</td>\n",
              "    </tr>\n",
              "    <tr>\n",
              "      <th>2</th>\n",
              "      <td>R$ 2.690 /Mês</td>\n",
              "      <td>2</td>\n",
              "      <td>Rua Doutor Diogo de Faria, 929 - Vila Clementi...</td>\n",
              "      <td>2</td>\n",
              "      <td>1</td>\n",
              "      <td>73</td>\n",
              "      <td>Vila Clementino</td>\n",
              "      <td>Rua Doutor Diogo de Faria, 929</td>\n",
              "    </tr>\n",
              "    <tr>\n",
              "      <th>3</th>\n",
              "      <td>R$ 3.600 /Mês</td>\n",
              "      <td>1</td>\n",
              "      <td>Rua Gomes de Carvalho, 1146 - Vila Olímpia, Sã...</td>\n",
              "      <td>1</td>\n",
              "      <td>1</td>\n",
              "      <td>35</td>\n",
              "      <td>Vila Olímpia</td>\n",
              "      <td>Rua Gomes de Carvalho, 1146</td>\n",
              "    </tr>\n",
              "    <tr>\n",
              "      <th>4</th>\n",
              "      <td>R$ 1.050 /Mês</td>\n",
              "      <td>1</td>\n",
              "      <td>Centro, São Paulo - SP</td>\n",
              "      <td>1</td>\n",
              "      <td>--</td>\n",
              "      <td>38</td>\n",
              "      <td>SP</td>\n",
              "      <td>Centro, São Paulo</td>\n",
              "    </tr>\n",
              "  </tbody>\n",
              "</table>\n",
              "</div>"
            ],
            "text/plain": [
              "              aluguel  ...                                   rua\n",
              "0     R$ 1.900 /Mês    ...  Rua Cônego Vicente Miguel Marino, 29\n",
              "1     R$ 2.800 /Mês    ...             Rua Almirante Brasil, 243\n",
              "2     R$ 2.690 /Mês    ...        Rua Doutor Diogo de Faria, 929\n",
              "3     R$ 3.600 /Mês    ...           Rua Gomes de Carvalho, 1146\n",
              "4     R$ 1.050 /Mês    ...                     Centro, São Paulo\n",
              "\n",
              "[5 rows x 8 columns]"
            ]
          },
          "metadata": {
            "tags": []
          },
          "execution_count": 17
        }
      ]
    },
    {
      "cell_type": "code",
      "metadata": {
        "id": "fOeiyugnJzTY"
      },
      "source": [
        " df_final['aluguel'] = df_final.aluguel.str.extract('R\\$ (.*) /Mês')\n",
        " df_final['aluguel'] = df_final['aluguel'].replace('\\.', '', regex=True)"
      ],
      "execution_count": 18,
      "outputs": []
    },
    {
      "cell_type": "code",
      "metadata": {
        "id": "y-utR41SJ7-_",
        "colab": {
          "base_uri": "https://localhost:8080/",
          "height": 204
        },
        "outputId": "5b0866a1-db86-4432-eb8a-4cde9f934dbb"
      },
      "source": [
        "df_final.head()\n"
      ],
      "execution_count": 19,
      "outputs": [
        {
          "output_type": "execute_result",
          "data": {
            "text/html": [
              "<div>\n",
              "<style scoped>\n",
              "    .dataframe tbody tr th:only-of-type {\n",
              "        vertical-align: middle;\n",
              "    }\n",
              "\n",
              "    .dataframe tbody tr th {\n",
              "        vertical-align: top;\n",
              "    }\n",
              "\n",
              "    .dataframe thead th {\n",
              "        text-align: right;\n",
              "    }\n",
              "</style>\n",
              "<table border=\"1\" class=\"dataframe\">\n",
              "  <thead>\n",
              "    <tr style=\"text-align: right;\">\n",
              "      <th></th>\n",
              "      <th>aluguel</th>\n",
              "      <th>quartos</th>\n",
              "      <th>endereco</th>\n",
              "      <th>banheiro</th>\n",
              "      <th>vaga</th>\n",
              "      <th>area</th>\n",
              "      <th>bairro</th>\n",
              "      <th>rua</th>\n",
              "    </tr>\n",
              "  </thead>\n",
              "  <tbody>\n",
              "    <tr>\n",
              "      <th>0</th>\n",
              "      <td>1900</td>\n",
              "      <td>2</td>\n",
              "      <td>Rua Cônego Vicente Miguel Marino, 29 - Barra F...</td>\n",
              "      <td>1</td>\n",
              "      <td>--</td>\n",
              "      <td>33</td>\n",
              "      <td>Barra Funda</td>\n",
              "      <td>Rua Cônego Vicente Miguel Marino, 29</td>\n",
              "    </tr>\n",
              "    <tr>\n",
              "      <th>1</th>\n",
              "      <td>2800</td>\n",
              "      <td>1</td>\n",
              "      <td>Rua Almirante Brasil, 243 - Móoca, São Paulo - SP</td>\n",
              "      <td>2</td>\n",
              "      <td>1</td>\n",
              "      <td>70</td>\n",
              "      <td>Móoca</td>\n",
              "      <td>Rua Almirante Brasil, 243</td>\n",
              "    </tr>\n",
              "    <tr>\n",
              "      <th>2</th>\n",
              "      <td>2690</td>\n",
              "      <td>2</td>\n",
              "      <td>Rua Doutor Diogo de Faria, 929 - Vila Clementi...</td>\n",
              "      <td>2</td>\n",
              "      <td>1</td>\n",
              "      <td>73</td>\n",
              "      <td>Vila Clementino</td>\n",
              "      <td>Rua Doutor Diogo de Faria, 929</td>\n",
              "    </tr>\n",
              "    <tr>\n",
              "      <th>3</th>\n",
              "      <td>3600</td>\n",
              "      <td>1</td>\n",
              "      <td>Rua Gomes de Carvalho, 1146 - Vila Olímpia, Sã...</td>\n",
              "      <td>1</td>\n",
              "      <td>1</td>\n",
              "      <td>35</td>\n",
              "      <td>Vila Olímpia</td>\n",
              "      <td>Rua Gomes de Carvalho, 1146</td>\n",
              "    </tr>\n",
              "    <tr>\n",
              "      <th>4</th>\n",
              "      <td>1050</td>\n",
              "      <td>1</td>\n",
              "      <td>Centro, São Paulo - SP</td>\n",
              "      <td>1</td>\n",
              "      <td>--</td>\n",
              "      <td>38</td>\n",
              "      <td>SP</td>\n",
              "      <td>Centro, São Paulo</td>\n",
              "    </tr>\n",
              "  </tbody>\n",
              "</table>\n",
              "</div>"
            ],
            "text/plain": [
              "  aluguel quartos  ...            bairro                                   rua\n",
              "0    1900     2    ...       Barra Funda  Rua Cônego Vicente Miguel Marino, 29\n",
              "1    2800     1    ...             Móoca             Rua Almirante Brasil, 243\n",
              "2    2690     2    ...   Vila Clementino        Rua Doutor Diogo de Faria, 929\n",
              "3    3600     1    ...      Vila Olímpia           Rua Gomes de Carvalho, 1146\n",
              "4    1050     1    ...                SP                     Centro, São Paulo\n",
              "\n",
              "[5 rows x 8 columns]"
            ]
          },
          "metadata": {
            "tags": []
          },
          "execution_count": 19
        }
      ]
    },
    {
      "cell_type": "code",
      "metadata": {
        "id": "xYMJA-rhb66X"
      },
      "source": [
        "df_teste = df_final"
      ],
      "execution_count": 21,
      "outputs": []
    },
    {
      "cell_type": "code",
      "metadata": {
        "id": "NI-_L_-db_xI"
      },
      "source": [
        "colunas = df_teste.drop(columns=['endereco','bairro','rua'])"
      ],
      "execution_count": 22,
      "outputs": []
    },
    {
      "cell_type": "code",
      "metadata": {
        "id": "G3eDc1JNcTZI",
        "colab": {
          "base_uri": "https://localhost:8080/",
          "height": 419
        },
        "outputId": "faf38c7d-40ff-4323-ba31-774da6a5c6e0"
      },
      "source": [
        "colunas"
      ],
      "execution_count": 23,
      "outputs": [
        {
          "output_type": "execute_result",
          "data": {
            "text/html": [
              "<div>\n",
              "<style scoped>\n",
              "    .dataframe tbody tr th:only-of-type {\n",
              "        vertical-align: middle;\n",
              "    }\n",
              "\n",
              "    .dataframe tbody tr th {\n",
              "        vertical-align: top;\n",
              "    }\n",
              "\n",
              "    .dataframe thead th {\n",
              "        text-align: right;\n",
              "    }\n",
              "</style>\n",
              "<table border=\"1\" class=\"dataframe\">\n",
              "  <thead>\n",
              "    <tr style=\"text-align: right;\">\n",
              "      <th></th>\n",
              "      <th>aluguel</th>\n",
              "      <th>quartos</th>\n",
              "      <th>banheiro</th>\n",
              "      <th>vaga</th>\n",
              "      <th>area</th>\n",
              "    </tr>\n",
              "  </thead>\n",
              "  <tbody>\n",
              "    <tr>\n",
              "      <th>0</th>\n",
              "      <td>1900</td>\n",
              "      <td>2</td>\n",
              "      <td>1</td>\n",
              "      <td>--</td>\n",
              "      <td>33</td>\n",
              "    </tr>\n",
              "    <tr>\n",
              "      <th>1</th>\n",
              "      <td>2800</td>\n",
              "      <td>1</td>\n",
              "      <td>2</td>\n",
              "      <td>1</td>\n",
              "      <td>70</td>\n",
              "    </tr>\n",
              "    <tr>\n",
              "      <th>2</th>\n",
              "      <td>2690</td>\n",
              "      <td>2</td>\n",
              "      <td>2</td>\n",
              "      <td>1</td>\n",
              "      <td>73</td>\n",
              "    </tr>\n",
              "    <tr>\n",
              "      <th>3</th>\n",
              "      <td>3600</td>\n",
              "      <td>1</td>\n",
              "      <td>1</td>\n",
              "      <td>1</td>\n",
              "      <td>35</td>\n",
              "    </tr>\n",
              "    <tr>\n",
              "      <th>4</th>\n",
              "      <td>1050</td>\n",
              "      <td>1</td>\n",
              "      <td>1</td>\n",
              "      <td>--</td>\n",
              "      <td>38</td>\n",
              "    </tr>\n",
              "    <tr>\n",
              "      <th>...</th>\n",
              "      <td>...</td>\n",
              "      <td>...</td>\n",
              "      <td>...</td>\n",
              "      <td>...</td>\n",
              "      <td>...</td>\n",
              "    </tr>\n",
              "    <tr>\n",
              "      <th>31</th>\n",
              "      <td>3000</td>\n",
              "      <td>1</td>\n",
              "      <td>1</td>\n",
              "      <td>1</td>\n",
              "      <td>50</td>\n",
              "    </tr>\n",
              "    <tr>\n",
              "      <th>32</th>\n",
              "      <td>900</td>\n",
              "      <td>2</td>\n",
              "      <td>1</td>\n",
              "      <td>1</td>\n",
              "      <td>45</td>\n",
              "    </tr>\n",
              "    <tr>\n",
              "      <th>33</th>\n",
              "      <td>3500</td>\n",
              "      <td>4</td>\n",
              "      <td>3</td>\n",
              "      <td>1</td>\n",
              "      <td>110</td>\n",
              "    </tr>\n",
              "    <tr>\n",
              "      <th>34</th>\n",
              "      <td>2500</td>\n",
              "      <td>3</td>\n",
              "      <td>3</td>\n",
              "      <td>2</td>\n",
              "      <td>125</td>\n",
              "    </tr>\n",
              "    <tr>\n",
              "      <th>35</th>\n",
              "      <td>6500</td>\n",
              "      <td>4</td>\n",
              "      <td>6</td>\n",
              "      <td>4</td>\n",
              "      <td>288</td>\n",
              "    </tr>\n",
              "  </tbody>\n",
              "</table>\n",
              "<p>1404 rows × 5 columns</p>\n",
              "</div>"
            ],
            "text/plain": [
              "   aluguel quartos banheiro    vaga    area\n",
              "0     1900     2        1      --       33 \n",
              "1     2800     1        2       1       70 \n",
              "2     2690     2        2       1       73 \n",
              "3     3600     1        1       1       35 \n",
              "4     1050     1        1      --       38 \n",
              "..     ...     ...      ...     ...     ...\n",
              "31    3000     1        1       1       50 \n",
              "32     900     2        1       1       45 \n",
              "33    3500     4        3       1      110 \n",
              "34    2500     3        3       2      125 \n",
              "35    6500     4        6       4      288 \n",
              "\n",
              "[1404 rows x 5 columns]"
            ]
          },
          "metadata": {
            "tags": []
          },
          "execution_count": 23
        }
      ]
    },
    {
      "cell_type": "code",
      "metadata": {
        "id": "KEDzciKbc_7B",
        "colab": {
          "base_uri": "https://localhost:8080/",
          "height": 204
        },
        "outputId": "27df5721-8332-43ef-db62-958e6cb458a7"
      },
      "source": [
        "df_teste.head()"
      ],
      "execution_count": 24,
      "outputs": [
        {
          "output_type": "execute_result",
          "data": {
            "text/html": [
              "<div>\n",
              "<style scoped>\n",
              "    .dataframe tbody tr th:only-of-type {\n",
              "        vertical-align: middle;\n",
              "    }\n",
              "\n",
              "    .dataframe tbody tr th {\n",
              "        vertical-align: top;\n",
              "    }\n",
              "\n",
              "    .dataframe thead th {\n",
              "        text-align: right;\n",
              "    }\n",
              "</style>\n",
              "<table border=\"1\" class=\"dataframe\">\n",
              "  <thead>\n",
              "    <tr style=\"text-align: right;\">\n",
              "      <th></th>\n",
              "      <th>aluguel</th>\n",
              "      <th>quartos</th>\n",
              "      <th>endereco</th>\n",
              "      <th>banheiro</th>\n",
              "      <th>vaga</th>\n",
              "      <th>area</th>\n",
              "      <th>bairro</th>\n",
              "      <th>rua</th>\n",
              "    </tr>\n",
              "  </thead>\n",
              "  <tbody>\n",
              "    <tr>\n",
              "      <th>0</th>\n",
              "      <td>1900</td>\n",
              "      <td>2</td>\n",
              "      <td>Rua Cônego Vicente Miguel Marino, 29 - Barra F...</td>\n",
              "      <td>1</td>\n",
              "      <td>--</td>\n",
              "      <td>33</td>\n",
              "      <td>Barra Funda</td>\n",
              "      <td>Rua Cônego Vicente Miguel Marino, 29</td>\n",
              "    </tr>\n",
              "    <tr>\n",
              "      <th>1</th>\n",
              "      <td>2800</td>\n",
              "      <td>1</td>\n",
              "      <td>Rua Almirante Brasil, 243 - Móoca, São Paulo - SP</td>\n",
              "      <td>2</td>\n",
              "      <td>1</td>\n",
              "      <td>70</td>\n",
              "      <td>Móoca</td>\n",
              "      <td>Rua Almirante Brasil, 243</td>\n",
              "    </tr>\n",
              "    <tr>\n",
              "      <th>2</th>\n",
              "      <td>2690</td>\n",
              "      <td>2</td>\n",
              "      <td>Rua Doutor Diogo de Faria, 929 - Vila Clementi...</td>\n",
              "      <td>2</td>\n",
              "      <td>1</td>\n",
              "      <td>73</td>\n",
              "      <td>Vila Clementino</td>\n",
              "      <td>Rua Doutor Diogo de Faria, 929</td>\n",
              "    </tr>\n",
              "    <tr>\n",
              "      <th>3</th>\n",
              "      <td>3600</td>\n",
              "      <td>1</td>\n",
              "      <td>Rua Gomes de Carvalho, 1146 - Vila Olímpia, Sã...</td>\n",
              "      <td>1</td>\n",
              "      <td>1</td>\n",
              "      <td>35</td>\n",
              "      <td>Vila Olímpia</td>\n",
              "      <td>Rua Gomes de Carvalho, 1146</td>\n",
              "    </tr>\n",
              "    <tr>\n",
              "      <th>4</th>\n",
              "      <td>1050</td>\n",
              "      <td>1</td>\n",
              "      <td>Centro, São Paulo - SP</td>\n",
              "      <td>1</td>\n",
              "      <td>--</td>\n",
              "      <td>38</td>\n",
              "      <td>SP</td>\n",
              "      <td>Centro, São Paulo</td>\n",
              "    </tr>\n",
              "  </tbody>\n",
              "</table>\n",
              "</div>"
            ],
            "text/plain": [
              "  aluguel quartos  ...            bairro                                   rua\n",
              "0    1900     2    ...       Barra Funda  Rua Cônego Vicente Miguel Marino, 29\n",
              "1    2800     1    ...             Móoca             Rua Almirante Brasil, 243\n",
              "2    2690     2    ...   Vila Clementino        Rua Doutor Diogo de Faria, 929\n",
              "3    3600     1    ...      Vila Olímpia           Rua Gomes de Carvalho, 1146\n",
              "4    1050     1    ...                SP                     Centro, São Paulo\n",
              "\n",
              "[5 rows x 8 columns]"
            ]
          },
          "metadata": {
            "tags": []
          },
          "execution_count": 24
        }
      ]
    },
    {
      "cell_type": "code",
      "metadata": {
        "colab": {
          "base_uri": "https://localhost:8080/"
        },
        "id": "KqgS6f4aqtze",
        "outputId": "0e299024-9407-4c4b-e10d-e5ea6a13de1c"
      },
      "source": [
        "df_teste['endereco'].nunique()"
      ],
      "execution_count": 25,
      "outputs": [
        {
          "output_type": "execute_result",
          "data": {
            "text/plain": [
              "40"
            ]
          },
          "metadata": {
            "tags": []
          },
          "execution_count": 25
        }
      ]
    },
    {
      "cell_type": "code",
      "metadata": {
        "id": "UFajv1V4rE-S"
      },
      "source": [
        "df_teste = df_teste.drop_duplicates(subset=['endereco','aluguel'], keep='first', inplace=False)"
      ],
      "execution_count": 27,
      "outputs": []
    },
    {
      "cell_type": "code",
      "metadata": {
        "colab": {
          "base_uri": "https://localhost:8080/"
        },
        "id": "t_1KYWjgriW5",
        "outputId": "59f32653-f612-4ac4-99b5-efccadd39fb1"
      },
      "source": [
        "df_teste.shape"
      ],
      "execution_count": 28,
      "outputs": [
        {
          "output_type": "execute_result",
          "data": {
            "text/plain": [
              "(40, 8)"
            ]
          },
          "metadata": {
            "tags": []
          },
          "execution_count": 28
        }
      ]
    },
    {
      "cell_type": "code",
      "metadata": {
        "id": "7fQJhsmWr5fX"
      },
      "source": [
        "df_teste.to_csv('limpo.csv')"
      ],
      "execution_count": 30,
      "outputs": []
    },
    {
      "cell_type": "code",
      "metadata": {
        "colab": {
          "base_uri": "https://localhost:8080/",
          "height": 173
        },
        "id": "1SHIq4PzsFwf",
        "outputId": "c9008a87-2bc9-4bda-a226-56ed58a7d391"
      },
      "source": [
        "df_teste.describe()"
      ],
      "execution_count": 31,
      "outputs": [
        {
          "output_type": "execute_result",
          "data": {
            "text/html": [
              "<div>\n",
              "<style scoped>\n",
              "    .dataframe tbody tr th:only-of-type {\n",
              "        vertical-align: middle;\n",
              "    }\n",
              "\n",
              "    .dataframe tbody tr th {\n",
              "        vertical-align: top;\n",
              "    }\n",
              "\n",
              "    .dataframe thead th {\n",
              "        text-align: right;\n",
              "    }\n",
              "</style>\n",
              "<table border=\"1\" class=\"dataframe\">\n",
              "  <thead>\n",
              "    <tr style=\"text-align: right;\">\n",
              "      <th></th>\n",
              "      <th>aluguel</th>\n",
              "      <th>quartos</th>\n",
              "      <th>endereco</th>\n",
              "      <th>banheiro</th>\n",
              "      <th>vaga</th>\n",
              "      <th>area</th>\n",
              "      <th>bairro</th>\n",
              "      <th>rua</th>\n",
              "    </tr>\n",
              "  </thead>\n",
              "  <tbody>\n",
              "    <tr>\n",
              "      <th>count</th>\n",
              "      <td>40</td>\n",
              "      <td>40</td>\n",
              "      <td>40</td>\n",
              "      <td>40</td>\n",
              "      <td>40</td>\n",
              "      <td>40</td>\n",
              "      <td>40</td>\n",
              "      <td>40</td>\n",
              "    </tr>\n",
              "    <tr>\n",
              "      <th>unique</th>\n",
              "      <td>32</td>\n",
              "      <td>4</td>\n",
              "      <td>40</td>\n",
              "      <td>6</td>\n",
              "      <td>5</td>\n",
              "      <td>30</td>\n",
              "      <td>32</td>\n",
              "      <td>40</td>\n",
              "    </tr>\n",
              "    <tr>\n",
              "      <th>top</th>\n",
              "      <td>3000</td>\n",
              "      <td>1</td>\n",
              "      <td>Rua Caramuru, 1164 - Jardim da Saude, São Paul...</td>\n",
              "      <td>1</td>\n",
              "      <td>1</td>\n",
              "      <td>47</td>\n",
              "      <td>Campo Belo</td>\n",
              "      <td>Alameda Jaú, 310</td>\n",
              "    </tr>\n",
              "    <tr>\n",
              "      <th>freq</th>\n",
              "      <td>3</td>\n",
              "      <td>15</td>\n",
              "      <td>1</td>\n",
              "      <td>18</td>\n",
              "      <td>24</td>\n",
              "      <td>3</td>\n",
              "      <td>3</td>\n",
              "      <td>1</td>\n",
              "    </tr>\n",
              "  </tbody>\n",
              "</table>\n",
              "</div>"
            ],
            "text/plain": [
              "       aluguel quartos  ...       bairro               rua\n",
              "count       40      40  ...           40                40\n",
              "unique      32       4  ...           32                40\n",
              "top       3000     1    ...   Campo Belo  Alameda Jaú, 310\n",
              "freq         3      15  ...            3                 1\n",
              "\n",
              "[4 rows x 8 columns]"
            ]
          },
          "metadata": {
            "tags": []
          },
          "execution_count": 31
        }
      ]
    },
    {
      "cell_type": "code",
      "metadata": {
        "id": "OgIaLyALsSaC"
      },
      "source": [
        "cols = df_teste.columns.drop(['endereco','bairro','rua'])"
      ],
      "execution_count": 32,
      "outputs": []
    },
    {
      "cell_type": "code",
      "metadata": {
        "colab": {
          "base_uri": "https://localhost:8080/"
        },
        "id": "h4ST-RAFsjNR",
        "outputId": "e1414864-1814-42a0-a546-72e184346e16"
      },
      "source": [
        "cols"
      ],
      "execution_count": 33,
      "outputs": [
        {
          "output_type": "execute_result",
          "data": {
            "text/plain": [
              "Index(['aluguel', 'quartos', 'banheiro', 'vaga', 'area'], dtype='object')"
            ]
          },
          "metadata": {
            "tags": []
          },
          "execution_count": 33
        }
      ]
    },
    {
      "cell_type": "code",
      "metadata": {
        "id": "NaKCfesUsnHM"
      },
      "source": [
        "df_teste[cols] = df_teste[cols].apply(pd.to_numeric, erros='coerce')"
      ],
      "execution_count": null,
      "outputs": []
    },
    {
      "cell_type": "code",
      "metadata": {
        "colab": {
          "base_uri": "https://localhost:8080/"
        },
        "id": "OJNkakRYs4o5",
        "outputId": "e05c1589-55fc-4b5d-a7b2-01942d35142a"
      },
      "source": [
        "df_teste.info()"
      ],
      "execution_count": 34,
      "outputs": [
        {
          "output_type": "stream",
          "text": [
            "<class 'pandas.core.frame.DataFrame'>\n",
            "Int64Index: 40 entries, 0 to 35\n",
            "Data columns (total 8 columns):\n",
            " #   Column    Non-Null Count  Dtype \n",
            "---  ------    --------------  ----- \n",
            " 0   aluguel   40 non-null     object\n",
            " 1   quartos   40 non-null     object\n",
            " 2   endereco  40 non-null     object\n",
            " 3   banheiro  40 non-null     object\n",
            " 4   vaga      40 non-null     object\n",
            " 5   area      40 non-null     object\n",
            " 6   bairro    40 non-null     object\n",
            " 7   rua       40 non-null     object\n",
            "dtypes: object(8)\n",
            "memory usage: 2.8+ KB\n"
          ],
          "name": "stdout"
        }
      ]
    },
    {
      "cell_type": "code",
      "metadata": {
        "colab": {
          "base_uri": "https://localhost:8080/",
          "height": 173
        },
        "id": "I1eM020mtBck",
        "outputId": "2fac1e72-8183-4fed-cae2-92121b5b1fd0"
      },
      "source": [
        "df_teste.describe()"
      ],
      "execution_count": 35,
      "outputs": [
        {
          "output_type": "execute_result",
          "data": {
            "text/html": [
              "<div>\n",
              "<style scoped>\n",
              "    .dataframe tbody tr th:only-of-type {\n",
              "        vertical-align: middle;\n",
              "    }\n",
              "\n",
              "    .dataframe tbody tr th {\n",
              "        vertical-align: top;\n",
              "    }\n",
              "\n",
              "    .dataframe thead th {\n",
              "        text-align: right;\n",
              "    }\n",
              "</style>\n",
              "<table border=\"1\" class=\"dataframe\">\n",
              "  <thead>\n",
              "    <tr style=\"text-align: right;\">\n",
              "      <th></th>\n",
              "      <th>aluguel</th>\n",
              "      <th>quartos</th>\n",
              "      <th>endereco</th>\n",
              "      <th>banheiro</th>\n",
              "      <th>vaga</th>\n",
              "      <th>area</th>\n",
              "      <th>bairro</th>\n",
              "      <th>rua</th>\n",
              "    </tr>\n",
              "  </thead>\n",
              "  <tbody>\n",
              "    <tr>\n",
              "      <th>count</th>\n",
              "      <td>40</td>\n",
              "      <td>40</td>\n",
              "      <td>40</td>\n",
              "      <td>40</td>\n",
              "      <td>40</td>\n",
              "      <td>40</td>\n",
              "      <td>40</td>\n",
              "      <td>40</td>\n",
              "    </tr>\n",
              "    <tr>\n",
              "      <th>unique</th>\n",
              "      <td>32</td>\n",
              "      <td>4</td>\n",
              "      <td>40</td>\n",
              "      <td>6</td>\n",
              "      <td>5</td>\n",
              "      <td>30</td>\n",
              "      <td>32</td>\n",
              "      <td>40</td>\n",
              "    </tr>\n",
              "    <tr>\n",
              "      <th>top</th>\n",
              "      <td>3000</td>\n",
              "      <td>1</td>\n",
              "      <td>Rua Caramuru, 1164 - Jardim da Saude, São Paul...</td>\n",
              "      <td>1</td>\n",
              "      <td>1</td>\n",
              "      <td>47</td>\n",
              "      <td>Campo Belo</td>\n",
              "      <td>Alameda Jaú, 310</td>\n",
              "    </tr>\n",
              "    <tr>\n",
              "      <th>freq</th>\n",
              "      <td>3</td>\n",
              "      <td>15</td>\n",
              "      <td>1</td>\n",
              "      <td>18</td>\n",
              "      <td>24</td>\n",
              "      <td>3</td>\n",
              "      <td>3</td>\n",
              "      <td>1</td>\n",
              "    </tr>\n",
              "  </tbody>\n",
              "</table>\n",
              "</div>"
            ],
            "text/plain": [
              "       aluguel quartos  ...       bairro               rua\n",
              "count       40      40  ...           40                40\n",
              "unique      32       4  ...           32                40\n",
              "top       3000     1    ...   Campo Belo  Alameda Jaú, 310\n",
              "freq         3      15  ...            3                 1\n",
              "\n",
              "[4 rows x 8 columns]"
            ]
          },
          "metadata": {
            "tags": []
          },
          "execution_count": 35
        }
      ]
    },
    {
      "cell_type": "code",
      "metadata": {
        "colab": {
          "base_uri": "https://localhost:8080/",
          "height": 35
        },
        "id": "2NeYfUMBtUnN",
        "outputId": "ac0c9a98-b75d-45e0-df28-b2ed3c2c6a88"
      },
      "source": [
        "min(df_teste.aluguel)"
      ],
      "execution_count": 36,
      "outputs": [
        {
          "output_type": "execute_result",
          "data": {
            "application/vnd.google.colaboratory.intrinsic+json": {
              "type": "string"
            },
            "text/plain": [
              "'1050'"
            ]
          },
          "metadata": {
            "tags": []
          },
          "execution_count": 36
        }
      ]
    },
    {
      "cell_type": "code",
      "metadata": {
        "colab": {
          "base_uri": "https://localhost:8080/",
          "height": 669
        },
        "id": "JN-ZmaCzty0i",
        "outputId": "8e904192-dd3f-4495-b243-f1b3bd77f7ce"
      },
      "source": [
        "df_teste.head(20)"
      ],
      "execution_count": 37,
      "outputs": [
        {
          "output_type": "execute_result",
          "data": {
            "text/html": [
              "<div>\n",
              "<style scoped>\n",
              "    .dataframe tbody tr th:only-of-type {\n",
              "        vertical-align: middle;\n",
              "    }\n",
              "\n",
              "    .dataframe tbody tr th {\n",
              "        vertical-align: top;\n",
              "    }\n",
              "\n",
              "    .dataframe thead th {\n",
              "        text-align: right;\n",
              "    }\n",
              "</style>\n",
              "<table border=\"1\" class=\"dataframe\">\n",
              "  <thead>\n",
              "    <tr style=\"text-align: right;\">\n",
              "      <th></th>\n",
              "      <th>aluguel</th>\n",
              "      <th>quartos</th>\n",
              "      <th>endereco</th>\n",
              "      <th>banheiro</th>\n",
              "      <th>vaga</th>\n",
              "      <th>area</th>\n",
              "      <th>bairro</th>\n",
              "      <th>rua</th>\n",
              "    </tr>\n",
              "  </thead>\n",
              "  <tbody>\n",
              "    <tr>\n",
              "      <th>0</th>\n",
              "      <td>1900</td>\n",
              "      <td>2</td>\n",
              "      <td>Rua Cônego Vicente Miguel Marino, 29 - Barra F...</td>\n",
              "      <td>1</td>\n",
              "      <td>--</td>\n",
              "      <td>33</td>\n",
              "      <td>Barra Funda</td>\n",
              "      <td>Rua Cônego Vicente Miguel Marino, 29</td>\n",
              "    </tr>\n",
              "    <tr>\n",
              "      <th>1</th>\n",
              "      <td>2800</td>\n",
              "      <td>1</td>\n",
              "      <td>Rua Almirante Brasil, 243 - Móoca, São Paulo - SP</td>\n",
              "      <td>2</td>\n",
              "      <td>1</td>\n",
              "      <td>70</td>\n",
              "      <td>Móoca</td>\n",
              "      <td>Rua Almirante Brasil, 243</td>\n",
              "    </tr>\n",
              "    <tr>\n",
              "      <th>2</th>\n",
              "      <td>2690</td>\n",
              "      <td>2</td>\n",
              "      <td>Rua Doutor Diogo de Faria, 929 - Vila Clementi...</td>\n",
              "      <td>2</td>\n",
              "      <td>1</td>\n",
              "      <td>73</td>\n",
              "      <td>Vila Clementino</td>\n",
              "      <td>Rua Doutor Diogo de Faria, 929</td>\n",
              "    </tr>\n",
              "    <tr>\n",
              "      <th>3</th>\n",
              "      <td>3600</td>\n",
              "      <td>1</td>\n",
              "      <td>Rua Gomes de Carvalho, 1146 - Vila Olímpia, Sã...</td>\n",
              "      <td>1</td>\n",
              "      <td>1</td>\n",
              "      <td>35</td>\n",
              "      <td>Vila Olímpia</td>\n",
              "      <td>Rua Gomes de Carvalho, 1146</td>\n",
              "    </tr>\n",
              "    <tr>\n",
              "      <th>4</th>\n",
              "      <td>1050</td>\n",
              "      <td>1</td>\n",
              "      <td>Centro, São Paulo - SP</td>\n",
              "      <td>1</td>\n",
              "      <td>--</td>\n",
              "      <td>38</td>\n",
              "      <td>SP</td>\n",
              "      <td>Centro, São Paulo</td>\n",
              "    </tr>\n",
              "    <tr>\n",
              "      <th>5</th>\n",
              "      <td>7500</td>\n",
              "      <td>3</td>\n",
              "      <td>Rua José Maria Lisboa, 514 - Jardins, São Paul...</td>\n",
              "      <td>3</td>\n",
              "      <td>2</td>\n",
              "      <td>115</td>\n",
              "      <td>Jardins</td>\n",
              "      <td>Rua José Maria Lisboa, 514</td>\n",
              "    </tr>\n",
              "    <tr>\n",
              "      <th>6</th>\n",
              "      <td>4300</td>\n",
              "      <td>1</td>\n",
              "      <td>Rua Gabriele D'Annunzio, 624 - Campo Belo, São...</td>\n",
              "      <td>1</td>\n",
              "      <td>1</td>\n",
              "      <td>53</td>\n",
              "      <td>Campo Belo</td>\n",
              "      <td>Rua Gabriele D'Annunzio, 624</td>\n",
              "    </tr>\n",
              "    <tr>\n",
              "      <th>7</th>\n",
              "      <td>3150</td>\n",
              "      <td>1</td>\n",
              "      <td>Rua Castilho, 155 - Brooklin, São Paulo - SP</td>\n",
              "      <td>1</td>\n",
              "      <td>1</td>\n",
              "      <td>47</td>\n",
              "      <td>Brooklin</td>\n",
              "      <td>Rua Castilho, 155</td>\n",
              "    </tr>\n",
              "    <tr>\n",
              "      <th>8</th>\n",
              "      <td>2800</td>\n",
              "      <td>1</td>\n",
              "      <td>Rua Vapabussu, 66 - Campo Belo, São Paulo - SP</td>\n",
              "      <td>2</td>\n",
              "      <td>1</td>\n",
              "      <td>47</td>\n",
              "      <td>Campo Belo</td>\n",
              "      <td>Rua Vapabussu, 66</td>\n",
              "    </tr>\n",
              "    <tr>\n",
              "      <th>9</th>\n",
              "      <td>8000</td>\n",
              "      <td>2</td>\n",
              "      <td>Rua Professor Vahia de Abreu, 41 - Vila Olímpi...</td>\n",
              "      <td>3</td>\n",
              "      <td>2</td>\n",
              "      <td>98</td>\n",
              "      <td>Vila Olímpia</td>\n",
              "      <td>Rua Professor Vahia de Abreu, 41</td>\n",
              "    </tr>\n",
              "    <tr>\n",
              "      <th>10</th>\n",
              "      <td>3000</td>\n",
              "      <td>1</td>\n",
              "      <td>Rua Capote Valente, 929 - Pinheiros, São Paulo...</td>\n",
              "      <td>1</td>\n",
              "      <td>1</td>\n",
              "      <td>54</td>\n",
              "      <td>Pinheiros</td>\n",
              "      <td>Rua Capote Valente, 929</td>\n",
              "    </tr>\n",
              "    <tr>\n",
              "      <th>11</th>\n",
              "      <td>2300</td>\n",
              "      <td>2</td>\n",
              "      <td>Rua Santo Arcádio, 43 - Jardim das Acacias, Sã...</td>\n",
              "      <td>1</td>\n",
              "      <td>1</td>\n",
              "      <td>64</td>\n",
              "      <td>Jardim das Acacias</td>\n",
              "      <td>Rua Santo Arcádio, 43</td>\n",
              "    </tr>\n",
              "    <tr>\n",
              "      <th>12</th>\n",
              "      <td>2450</td>\n",
              "      <td>1</td>\n",
              "      <td>Rua São José, 150 - Alto Da Boa Vista, São Pau...</td>\n",
              "      <td>1</td>\n",
              "      <td>1</td>\n",
              "      <td>45</td>\n",
              "      <td>Alto Da Boa Vista</td>\n",
              "      <td>Rua São José, 150</td>\n",
              "    </tr>\n",
              "    <tr>\n",
              "      <th>13</th>\n",
              "      <td>3200</td>\n",
              "      <td>4</td>\n",
              "      <td>Rua Alcantarilla - Vila Andrade, São Paulo - SP</td>\n",
              "      <td>4</td>\n",
              "      <td>3</td>\n",
              "      <td>130</td>\n",
              "      <td>Vila Andrade</td>\n",
              "      <td>Rua Alcantarilla</td>\n",
              "    </tr>\n",
              "    <tr>\n",
              "      <th>14</th>\n",
              "      <td>3000</td>\n",
              "      <td>3</td>\n",
              "      <td>Rua França Carvalho, 137 - Alto da Mooca, São ...</td>\n",
              "      <td>4</td>\n",
              "      <td>3</td>\n",
              "      <td>140</td>\n",
              "      <td>Alto da Mooca</td>\n",
              "      <td>Rua França Carvalho, 137</td>\n",
              "    </tr>\n",
              "    <tr>\n",
              "      <th>15</th>\n",
              "      <td>1400</td>\n",
              "      <td>1</td>\n",
              "      <td>Rua São Vicente de Paulo, 124 - Santa Cecília,...</td>\n",
              "      <td>1</td>\n",
              "      <td>1</td>\n",
              "      <td>42</td>\n",
              "      <td>Santa Cecília</td>\n",
              "      <td>Rua São Vicente de Paulo, 124</td>\n",
              "    </tr>\n",
              "    <tr>\n",
              "      <th>16</th>\n",
              "      <td>1800</td>\n",
              "      <td>1</td>\n",
              "      <td>Rua André Casado, 215 - Sumaré, São Paulo - SP</td>\n",
              "      <td>1</td>\n",
              "      <td>1</td>\n",
              "      <td>50</td>\n",
              "      <td>Sumaré</td>\n",
              "      <td>Rua André Casado, 215</td>\n",
              "    </tr>\n",
              "    <tr>\n",
              "      <th>17</th>\n",
              "      <td>2700</td>\n",
              "      <td>3</td>\n",
              "      <td>Vila Mariana, São Paulo - SP</td>\n",
              "      <td>2</td>\n",
              "      <td>1</td>\n",
              "      <td>95</td>\n",
              "      <td>SP</td>\n",
              "      <td>Vila Mariana, São Paulo</td>\n",
              "    </tr>\n",
              "    <tr>\n",
              "      <th>18</th>\n",
              "      <td>2700</td>\n",
              "      <td>2</td>\n",
              "      <td>Rua Álvaro de Carvalho, 134 - Centro, São Paul...</td>\n",
              "      <td>2</td>\n",
              "      <td>1</td>\n",
              "      <td>70</td>\n",
              "      <td>Centro</td>\n",
              "      <td>Rua Álvaro de Carvalho, 134</td>\n",
              "    </tr>\n",
              "    <tr>\n",
              "      <th>19</th>\n",
              "      <td>4000</td>\n",
              "      <td>1</td>\n",
              "      <td>Rua Diogo Jácome, 554 - Vila Nova Conceição, S...</td>\n",
              "      <td>1</td>\n",
              "      <td>1</td>\n",
              "      <td>48</td>\n",
              "      <td>Vila Nova Conceição</td>\n",
              "      <td>Rua Diogo Jácome, 554</td>\n",
              "    </tr>\n",
              "  </tbody>\n",
              "</table>\n",
              "</div>"
            ],
            "text/plain": [
              "   aluguel quartos  ...                bairro                                   rua\n",
              "0     1900     2    ...           Barra Funda  Rua Cônego Vicente Miguel Marino, 29\n",
              "1     2800     1    ...                 Móoca             Rua Almirante Brasil, 243\n",
              "2     2690     2    ...       Vila Clementino        Rua Doutor Diogo de Faria, 929\n",
              "3     3600     1    ...          Vila Olímpia           Rua Gomes de Carvalho, 1146\n",
              "4     1050     1    ...                    SP                     Centro, São Paulo\n",
              "5     7500     3    ...               Jardins            Rua José Maria Lisboa, 514\n",
              "6     4300     1    ...            Campo Belo          Rua Gabriele D'Annunzio, 624\n",
              "7     3150     1    ...              Brooklin                     Rua Castilho, 155\n",
              "8     2800     1    ...            Campo Belo                     Rua Vapabussu, 66\n",
              "9     8000     2    ...          Vila Olímpia      Rua Professor Vahia de Abreu, 41\n",
              "10    3000     1    ...             Pinheiros               Rua Capote Valente, 929\n",
              "11    2300     2    ...    Jardim das Acacias                 Rua Santo Arcádio, 43\n",
              "12    2450     1    ...     Alto Da Boa Vista                     Rua São José, 150\n",
              "13    3200     4    ...          Vila Andrade                      Rua Alcantarilla\n",
              "14    3000     3    ...         Alto da Mooca              Rua França Carvalho, 137\n",
              "15    1400     1    ...         Santa Cecília         Rua São Vicente de Paulo, 124\n",
              "16    1800     1    ...                Sumaré                 Rua André Casado, 215\n",
              "17    2700     3    ...                    SP               Vila Mariana, São Paulo\n",
              "18    2700     2    ...                Centro           Rua Álvaro de Carvalho, 134\n",
              "19    4000     1    ...   Vila Nova Conceição                 Rua Diogo Jácome, 554\n",
              "\n",
              "[20 rows x 8 columns]"
            ]
          },
          "metadata": {
            "tags": []
          },
          "execution_count": 37
        }
      ]
    },
    {
      "cell_type": "code",
      "metadata": {
        "colab": {
          "base_uri": "https://localhost:8080/"
        },
        "id": "s_4FzyNFt-dq",
        "outputId": "8dd6827c-1d81-468d-b832-e7682edbc8f5"
      },
      "source": [
        "df_teste.isnull().sum()"
      ],
      "execution_count": 39,
      "outputs": [
        {
          "output_type": "execute_result",
          "data": {
            "text/plain": [
              "aluguel     0\n",
              "quartos     0\n",
              "endereco    0\n",
              "banheiro    0\n",
              "vaga        0\n",
              "area        0\n",
              "bairro      0\n",
              "rua         0\n",
              "dtype: int64"
            ]
          },
          "metadata": {
            "tags": []
          },
          "execution_count": 39
        }
      ]
    },
    {
      "cell_type": "code",
      "metadata": {
        "id": "r5j_BIcvuVFk"
      },
      "source": [
        ""
      ],
      "execution_count": null,
      "outputs": []
    }
  ]
}